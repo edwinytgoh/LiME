{
 "cells": [
  {
   "cell_type": "code",
   "execution_count": 1,
   "metadata": {
    "ExecuteTime": {
     "end_time": "2019-02-27T23:27:03.611974Z",
     "start_time": "2019-02-27T23:27:03.381956Z"
    }
   },
   "outputs": [],
   "source": [
    "%load_ext autoreload\n",
    "%autoreload 2\n",
    "import sys\n",
    "sys.path.insert(0, \"../\")\n",
    "from CanteraTools import *\n",
    "from Particle import Particle\n",
    "import os\n",
    "import cantera as ct\n",
    "from BatchPaSR import LiME\n",
    "ct.suppress_thermo_warnings(True)\n",
    "# from tqdm import tqdm"
   ]
  },
  {
   "cell_type": "code",
   "execution_count": 3,
   "metadata": {
    "ExecuteTime": {
     "end_time": "2019-02-27T23:27:00.851632Z",
     "start_time": "2019-02-27T23:27:00.838748Z"
    }
   },
   "outputs": [],
   "source": [
    "from numbers import Number\n",
    "from collections import Set, Mapping, deque\n",
    "\n",
    "try: # Python 2\n",
    "    zero_depth_bases = (basestring, Number, xrange, bytearray)\n",
    "    iteritems = 'iteritems'\n",
    "except NameError: # Python 3\n",
    "    zero_depth_bases = (str, bytes, Number, range, bytearray)\n",
    "    iteritems = 'items'\n",
    "\n",
    "def getsize(obj_0):\n",
    "    \"\"\"Recursively iterate to sum size of object & members.\"\"\"\n",
    "    _seen_ids = set()\n",
    "    def inner(obj):\n",
    "        obj_id = id(obj)\n",
    "        if obj_id in _seen_ids:\n",
    "            return 0\n",
    "        _seen_ids.add(obj_id)\n",
    "        size = sys.getsizeof(obj)\n",
    "        if isinstance(obj, zero_depth_bases):\n",
    "            pass # bypass remaining control flow and return\n",
    "        elif isinstance(obj, (tuple, list, Set, deque)):\n",
    "            size += sum(inner(i) for i in obj)\n",
    "        elif isinstance(obj, Mapping) or hasattr(obj, iteritems):\n",
    "            size += sum(inner(k) + inner(v) for k, v in getattr(obj, iteritems)())\n",
    "        # Check for custom object instances - may subclass above too\n",
    "        if hasattr(obj, '__dict__'):\n",
    "            size += inner(vars(obj))\n",
    "        if hasattr(obj, '__slots__'): # can have __slots__ with __dict__\n",
    "            size += sum(inner(getattr(obj, s)) for s in obj.__slots__ if hasattr(obj, s))\n",
    "        return size\n",
    "    return inner(obj_0)"
   ]
  },
  {
   "cell_type": "code",
   "execution_count": 4,
   "metadata": {
    "ExecuteTime": {
     "end_time": "2019-02-27T23:27:05.532179Z",
     "start_time": "2019-02-27T23:27:05.510420Z"
    }
   },
   "outputs": [],
   "source": [
    "import sys\n",
    "import inspect\n",
    "\n",
    "def get_size(obj, seen=None):\n",
    "    \"\"\"Recursively finds size of objects in bytes\"\"\"\n",
    "    size = sys.getsizeof(obj)\n",
    "    if seen is None:\n",
    "        seen = set()\n",
    "    obj_id = id(obj)\n",
    "    if obj_id in seen:\n",
    "        return 0\n",
    "    # Important mark as seen *before* entering recursion to gracefully handle\n",
    "    # self-referential objects\n",
    "    seen.add(obj_id)\n",
    "    if hasattr(obj, '__dict__'):\n",
    "        for cls in obj.__class__.__mro__:\n",
    "            if '__dict__' in cls.__dict__:\n",
    "                d = cls.__dict__['__dict__']\n",
    "                if inspect.isgetsetdescriptor(d) or inspect.ismemberdescriptor(d):\n",
    "                    size += get_size(obj.__dict__, seen)\n",
    "                break\n",
    "    if isinstance(obj, dict):\n",
    "        size += sum((get_size(v, seen) for v in obj.values()))\n",
    "        size += sum((get_size(k, seen) for k in obj.keys()))\n",
    "    elif hasattr(obj, '__iter__') and not isinstance(obj, (str, bytes, bytearray)):\n",
    "        size += sum((get_size(i, seen) for i in obj))\n",
    "        \n",
    "    if hasattr(obj, '__slots__'): # can have __slots__ with __dict__\n",
    "        size += sum(get_size(getattr(obj, s), seen) for s in obj.__slots__ if hasattr(obj, s))\n",
    "        \n",
    "    return size"
   ]
  },
  {
   "cell_type": "code",
   "execution_count": 2,
   "metadata": {
    "ExecuteTime": {
     "end_time": "2019-02-27T20:23:05.354785Z",
     "start_time": "2019-02-27T20:23:03.142089Z"
    }
   },
   "outputs": [],
   "source": [
    "gas = ct.Solution(\"Klippenstein.cti\",name=\"Klippenstein.cti\")\n",
    "gas2 = ct.Solution(\"gri30.cti\")\n",
    "gas3 = ct.Solution(\"Klippenstein.cti\")"
   ]
  },
  {
   "cell_type": "code",
   "execution_count": 9,
   "metadata": {},
   "outputs": [
    {
     "ename": "SyntaxError",
     "evalue": "invalid syntax (<ipython-input-9-57abcca2d568>, line 1)",
     "output_type": "error",
     "traceback": [
      "\u001b[1;36m  File \u001b[1;32m\"<ipython-input-9-57abcca2d568>\"\u001b[1;36m, line \u001b[1;32m1\u001b[0m\n\u001b[1;33m    gas.species()[0].composition.get()?\u001b[0m\n\u001b[1;37m                                      ^\u001b[0m\n\u001b[1;31mSyntaxError\u001b[0m\u001b[1;31m:\u001b[0m invalid syntax\n"
     ]
    }
   ],
   "source": [
    "gas.species()[0].composition"
   ]
  },
  {
   "cell_type": "code",
   "execution_count": null,
   "metadata": {},
   "outputs": [],
   "source": [
    "gas.species()[0].composition.get"
   ]
  },
  {
   "cell_type": "code",
   "execution_count": 2,
   "metadata": {
    "ExecuteTime": {
     "end_time": "2019-02-27T19:05:41.510155Z",
     "start_time": "2019-02-27T19:05:41.468845Z"
    }
   },
   "outputs": [],
   "source": [
    "p = Particle(\"gri30.xml\", P=25*ct.one_atm)"
   ]
  },
  {
   "cell_type": "code",
   "execution_count": 11,
   "metadata": {
    "ExecuteTime": {
     "end_time": "2019-02-27T19:21:53.966030Z",
     "start_time": "2019-02-27T19:21:53.949134Z"
    }
   },
   "outputs": [
    {
     "data": {
      "text/plain": [
       "True"
      ]
     },
     "execution_count": 11,
     "metadata": {},
     "output_type": "execute_result"
    }
   ],
   "source": [
    "isinstance(p, ct.Solution)"
   ]
  },
  {
   "cell_type": "code",
   "execution_count": 13,
   "metadata": {
    "ExecuteTime": {
     "end_time": "2019-02-27T19:23:12.447493Z",
     "start_time": "2019-02-27T19:23:12.424866Z"
    }
   },
   "outputs": [
    {
     "ename": "TypeError",
     "evalue": "unsupported operand type(s) for +: 'Particle' and 'Particle'",
     "output_type": "error",
     "traceback": [
      "\u001b[0;31m---------------------------------------------------------------------------\u001b[0m",
      "\u001b[0;31mTypeError\u001b[0m                                 Traceback (most recent call last)",
      "\u001b[0;32m<ipython-input-13-76ec9bcb6d24>\u001b[0m in \u001b[0;36m<module>\u001b[0;34m()\u001b[0m\n\u001b[0;32m----> 1\u001b[0;31m \u001b[0mp\u001b[0m\u001b[0;34m+\u001b[0m\u001b[0mp\u001b[0m\u001b[0;34m\u001b[0m\u001b[0m\n\u001b[0m",
      "\u001b[0;31mTypeError\u001b[0m: unsupported operand type(s) for +: 'Particle' and 'Particle'"
     ]
    }
   ],
   "source": [
    "p+p"
   ]
  },
  {
   "cell_type": "code",
   "execution_count": null,
   "metadata": {
    "ExecuteTime": {
     "start_time": "2019-02-27T19:55:00.427Z"
    }
   },
   "outputs": [],
   "source": [
    "ct.suppress_thermo_warnings()\n",
    "pList = [Particle(\"Klippenstein.cti\") for i in range(0,3000)]"
   ]
  },
  {
   "cell_type": "markdown",
   "metadata": {},
   "source": [
    "### Initialization times without CPR and ReactorNet"
   ]
  },
  {
   "cell_type": "code",
   "execution_count": 16,
   "metadata": {
    "ExecuteTime": {
     "end_time": "2019-02-27T22:21:28.163157Z",
     "start_time": "2019-02-27T22:19:41.187315Z"
    }
   },
   "outputs": [
    {
     "name": "stdout",
     "output_type": "stream",
     "text": [
      "740 ms ± 4.75 ms per loop (mean ± std. dev. of 7 runs, 10 loops each)\n",
      "19.8 ms ± 152 µs per loop (mean ± std. dev. of 7 runs, 10 loops each)\n",
      "744 ms ± 5.1 ms per loop (mean ± std. dev. of 7 runs, 10 loops each)\n",
      "21.9 ms ± 766 µs per loop (mean ± std. dev. of 7 runs, 10 loops each)\n"
     ]
    }
   ],
   "source": [
    "%timeit -n10 gas1 = ct.Solution(\"Klippenstein.cti\")\n",
    "%timeit -n10 gas2 = ct.Solution(\"gri30.xml\")\n",
    "%timeit -n10 p1 = Particle(\"Klippenstein.cti\")\n",
    "%timeit -n10 p2 = Particle(\"gri30.xml\")"
   ]
  },
  {
   "cell_type": "markdown",
   "metadata": {},
   "source": [
    "## Memory Usage without CPR and ReactorNet"
   ]
  },
  {
   "cell_type": "code",
   "execution_count": 7,
   "metadata": {
    "ExecuteTime": {
     "end_time": "2019-02-27T22:57:00.545303Z",
     "start_time": "2019-02-27T22:56:58.995097Z"
    }
   },
   "outputs": [
    {
     "name": "stdout",
     "output_type": "stream",
     "text": [
      "[112, 112, 10750, 4471]\n",
      "[112, 112, 10750, 4471]\n"
     ]
    }
   ],
   "source": [
    "gas1 = ct.Solution(\"Klippenstein.cti\")\n",
    "gas2 = ct.Solution(\"gri30.xml\")\n",
    "p1 = Particle(\"Klippenstein.cti\")\n",
    "p2 = Particle(\"gri30.xml\")\n",
    "\n",
    "print(list(map(getsize, [gas1,gas2,p1,p2])))\n",
    "print(list(map(get_size, [gas1,gas2,p1,p2])))"
   ]
  },
  {
   "cell_type": "markdown",
   "metadata": {},
   "source": [
    "## Initialization Times with CPR and ReactorNet"
   ]
  },
  {
   "cell_type": "code",
   "execution_count": 32,
   "metadata": {
    "ExecuteTime": {
     "end_time": "2019-02-27T22:47:26.369371Z",
     "start_time": "2019-02-27T22:45:40.400085Z"
    }
   },
   "outputs": [
    {
     "name": "stdout",
     "output_type": "stream",
     "text": [
      "738 ms ± 9.68 ms per loop (mean ± std. dev. of 7 runs, 10 loops each)\n",
      "18.9 ms ± 92.5 µs per loop (mean ± std. dev. of 7 runs, 10 loops each)\n",
      "736 ms ± 2.29 ms per loop (mean ± std. dev. of 7 runs, 10 loops each)\n",
      "18.7 ms ± 428 µs per loop (mean ± std. dev. of 7 runs, 10 loops each)\n"
     ]
    }
   ],
   "source": [
    "%timeit -n10 gas1 = ct.Solution(\"Klippenstein.cti\")\n",
    "%timeit -n10 gas2 = ct.Solution(\"gri30.xml\")\n",
    "%timeit -n10 p1 = Particle(\"Klippenstein.cti\")\n",
    "%timeit -n10 p2 = Particle(\"gri30.xml\")"
   ]
  },
  {
   "cell_type": "code",
   "execution_count": 5,
   "metadata": {
    "ExecuteTime": {
     "end_time": "2019-02-27T23:25:11.435075Z",
     "start_time": "2019-02-27T23:25:09.877500Z"
    }
   },
   "outputs": [
    {
     "name": "stdout",
     "output_type": "stream",
     "text": [
      "This is the Particle constructor\n",
      "This is the Particle constructor\n",
      "[112, 112, 3812, 2237]\n",
      "[112, 112, 3972, 2397]\n"
     ]
    }
   ],
   "source": [
    "gas1 = ct.Solution(\"Klippenstein.cti\")\n",
    "gas2 = ct.Solution(\"gri30.xml\")\n",
    "p1 = Particle(\"Klippenstein.cti\")\n",
    "p2 = Particle(\"gri30.xml\")\n",
    "\n",
    "print(list(map(getsize, [gas1,gas2,p1,p2])))\n",
    "print(list(map(get_size, [gas1,gas2,p1,p2])))"
   ]
  },
  {
   "cell_type": "markdown",
   "metadata": {
    "ExecuteTime": {
     "end_time": "2019-02-27T23:12:41.376988Z",
     "start_time": "2019-02-27T23:12:41.356919Z"
    }
   },
   "source": [
    "## Memory Usage without timeHistory_list, with timeHistory_array instead"
   ]
  },
  {
   "cell_type": "code",
   "execution_count": 8,
   "metadata": {
    "scrolled": true
   },
   "outputs": [],
   "source": [
    "bp = LiME(\"gri30.xml\", P=25*ct.one_atm, N_MAX=1000)"
   ]
  },
  {
   "cell_type": "code",
   "execution_count": 9,
   "metadata": {},
   "outputs": [
    {
     "name": "stdout",
     "output_type": "stream",
     "text": [
      "\n",
      "  gri30:\n",
      "\n",
      "       temperature             300  K\n",
      "          pressure     2.53313e+06  Pa\n",
      "           density         2.04723  kg/m^3\n",
      "  mean mol. weight         2.01588  amu\n",
      "\n",
      "                          1 kg            1 kmol\n",
      "                       -----------      ------------\n",
      "          enthalpy           26470        5.336e+04     J\n",
      "   internal energy     -1.2109e+06       -2.441e+06     J\n",
      "           entropy           51638        1.041e+05     J/K\n",
      "    Gibbs function     -1.5465e+07       -3.118e+07     J\n",
      " heat capacity c_p           14312        2.885e+04     J/K\n",
      " heat capacity c_v           10187        2.054e+04     J/K\n",
      "\n",
      "                           X                 Y          Chem. Pot. / RT\n",
      "                     -------------     ------------     ------------\n",
      "                H2              1                1         -12.4984\n",
      "     [  +52 minor]              0                0\n",
      "\n"
     ]
    }
   ],
   "source": [
    "bp()"
   ]
  },
  {
   "cell_type": "code",
   "execution_count": 7,
   "metadata": {},
   "outputs": [
    {
     "ename": "NameError",
     "evalue": "name 'p1' is not defined",
     "output_type": "error",
     "traceback": [
      "\u001b[1;31m---------------------------------------------------------------------------\u001b[0m",
      "\u001b[1;31mNameError\u001b[0m                                 Traceback (most recent call last)",
      "\u001b[1;32m<ipython-input-7-cc63a75a6683>\u001b[0m in \u001b[0;36m<module>\u001b[1;34m()\u001b[0m\n\u001b[1;32m----> 1\u001b[1;33m \u001b[0mbp2\u001b[0m \u001b[1;33m=\u001b[0m \u001b[0mPaSBR\u001b[0m\u001b[1;33m.\u001b[0m\u001b[0mfromGas\u001b[0m\u001b[1;33m(\u001b[0m\u001b[0mp1\u001b[0m\u001b[1;33m,\u001b[0m \u001b[1;34m\"Klippenstein.cti\"\u001b[0m\u001b[1;33m)\u001b[0m\u001b[1;33m\u001b[0m\u001b[0m\n\u001b[0m",
      "\u001b[1;31mNameError\u001b[0m: name 'p1' is not defined"
     ]
    }
   ],
   "source": [
    "bp2 = LiME.from_gas(p1, \"Klippenstein.cti\")"
   ]
  },
  {
   "cell_type": "code",
   "execution_count": 20,
   "metadata": {},
   "outputs": [
    {
     "name": "stderr",
     "output_type": "stream",
     "text": [
      "[autoreload of Particle failed: Traceback (most recent call last):\n",
      "  File \"C:\\Users\\Edwin\\Anaconda3\\envs\\intelEnv\\lib\\site-packages\\IPython\\extensions\\autoreload.py\", line 245, in check\n",
      "    superreload(m, reload, self.old_objects)\n",
      "  File \"C:\\Users\\Edwin\\Anaconda3\\envs\\intelEnv\\lib\\site-packages\\IPython\\extensions\\autoreload.py\", line 368, in superreload\n",
      "    module = reload(module)\n",
      "  File \"C:\\Users\\Edwin\\Anaconda3\\envs\\intelEnv\\lib\\imp.py\", line 315, in reload\n",
      "    return importlib.reload(module)\n",
      "  File \"C:\\Users\\Edwin\\Anaconda3\\envs\\intelEnv\\lib\\importlib\\__init__.py\", line 166, in reload\n",
      "    _bootstrap._exec(spec, module)\n",
      "  File \"<frozen importlib._bootstrap>\", line 618, in _exec\n",
      "  File \"<frozen importlib._bootstrap_external>\", line 674, in exec_module\n",
      "  File \"<frozen importlib._bootstrap_external>\", line 781, in get_code\n",
      "  File \"<frozen importlib._bootstrap_external>\", line 741, in source_to_code\n",
      "  File \"<frozen importlib._bootstrap>\", line 219, in _call_with_frames_removed\n",
      "  File \"..\\Particle.py\", line 145\n",
      "    else:\n",
      "       ^\n",
      "SyntaxError: invalid syntax\n",
      "]\n"
     ]
    },
    {
     "ename": "AttributeError",
     "evalue": "'Solution' object has no attribute 'chemistry_enabled'",
     "output_type": "error",
     "traceback": [
      "\u001b[1;31m---------------------------------------------------------------------------\u001b[0m",
      "\u001b[1;31mAttributeError\u001b[0m                            Traceback (most recent call last)",
      "\u001b[1;32m<ipython-input-20-3d4ab94a0884>\u001b[0m in \u001b[0;36m<module>\u001b[1;34m()\u001b[0m\n\u001b[1;32m----> 1\u001b[1;33m \u001b[0mgas1\u001b[0m\u001b[1;33m.\u001b[0m\u001b[0mchemistry_enabled\u001b[0m\u001b[1;33m\u001b[0m\u001b[0m\n\u001b[0m",
      "\u001b[1;31mAttributeError\u001b[0m: 'Solution' object has no attribute 'chemistry_enabled'"
     ]
    }
   ],
   "source": [
    "gas1.chemistry_enabled"
   ]
  },
  {
   "cell_type": "code",
   "execution_count": 24,
   "metadata": {},
   "outputs": [],
   "source": [
    "p_n = Particle(\"gri30.xml\", P=25*ct.one_atm)"
   ]
  },
  {
   "cell_type": "code",
   "execution_count": 3,
   "metadata": {},
   "outputs": [
    {
     "data": {
      "text/plain": [
       "(300.0,\n",
       " 101324.99999999999,\n",
       " array([1., 0., 0., 0., 0., 0., 0., 0., 0., 0., 0., 0., 0., 0., 0., 0., 0.,\n",
       "        0., 0., 0., 0., 0., 0., 0., 0., 0., 0., 0., 0., 0., 0., 0., 0., 0.,\n",
       "        0., 0., 0., 0., 0., 0., 0., 0., 0., 0., 0., 0., 0., 0., 0., 0., 0.,\n",
       "        0., 0.]))"
      ]
     },
     "execution_count": 3,
     "metadata": {},
     "output_type": "execute_result"
    }
   ],
   "source": [
    "bp.TPX"
   ]
  },
  {
   "cell_type": "code",
   "execution_count": 11,
   "metadata": {
    "ExecuteTime": {
     "end_time": "2019-02-27T23:27:14.600907Z",
     "start_time": "2019-02-27T23:27:12.629841Z"
    }
   },
   "outputs": [
    {
     "ename": "NameError",
     "evalue": "name 'getsize' is not defined",
     "output_type": "error",
     "traceback": [
      "\u001b[1;31m---------------------------------------------------------------------------\u001b[0m",
      "\u001b[1;31mNameError\u001b[0m                                 Traceback (most recent call last)",
      "\u001b[1;32m<ipython-input-11-43500f10a82b>\u001b[0m in \u001b[0;36m<module>\u001b[1;34m()\u001b[0m\n\u001b[0;32m      4\u001b[0m \u001b[0mp2\u001b[0m \u001b[1;33m=\u001b[0m \u001b[0mParticle\u001b[0m\u001b[1;33m(\u001b[0m\u001b[1;34m\"gri30.xml\"\u001b[0m\u001b[1;33m)\u001b[0m\u001b[1;33m\u001b[0m\u001b[0m\n\u001b[0;32m      5\u001b[0m \u001b[1;33m\u001b[0m\u001b[0m\n\u001b[1;32m----> 6\u001b[1;33m \u001b[0mprint\u001b[0m\u001b[1;33m(\u001b[0m\u001b[0mlist\u001b[0m\u001b[1;33m(\u001b[0m\u001b[0mmap\u001b[0m\u001b[1;33m(\u001b[0m\u001b[0mgetsize\u001b[0m\u001b[1;33m,\u001b[0m \u001b[1;33m[\u001b[0m\u001b[0mgas1\u001b[0m\u001b[1;33m,\u001b[0m\u001b[0mgas2\u001b[0m\u001b[1;33m,\u001b[0m\u001b[0mp1\u001b[0m\u001b[1;33m,\u001b[0m\u001b[0mp2\u001b[0m\u001b[1;33m]\u001b[0m\u001b[1;33m)\u001b[0m\u001b[1;33m)\u001b[0m\u001b[1;33m)\u001b[0m\u001b[1;33m\u001b[0m\u001b[0m\n\u001b[0m\u001b[0;32m      7\u001b[0m \u001b[0mprint\u001b[0m\u001b[1;33m(\u001b[0m\u001b[0mlist\u001b[0m\u001b[1;33m(\u001b[0m\u001b[0mmap\u001b[0m\u001b[1;33m(\u001b[0m\u001b[0mget_size\u001b[0m\u001b[1;33m,\u001b[0m \u001b[1;33m[\u001b[0m\u001b[0mgas1\u001b[0m\u001b[1;33m,\u001b[0m\u001b[0mgas2\u001b[0m\u001b[1;33m,\u001b[0m\u001b[0mp1\u001b[0m\u001b[1;33m,\u001b[0m\u001b[0mp2\u001b[0m\u001b[1;33m]\u001b[0m\u001b[1;33m)\u001b[0m\u001b[1;33m)\u001b[0m\u001b[1;33m)\u001b[0m\u001b[1;33m\u001b[0m\u001b[0m\n",
      "\u001b[1;31mNameError\u001b[0m: name 'getsize' is not defined"
     ]
    }
   ],
   "source": [
    "gas1 = ct.Solution(\"Klippenstein.cti\")\n",
    "gas2 = ct.Solution(\"gri30.xml\")\n",
    "p1 = Particle(\"Klippenstein.cti\")\n",
    "p2 = Particle(\"gri30.xml\")\n",
    "\n",
    "print(list(map(getsize, [gas1,gas2,p1,p2])))\n",
    "print(list(map(get_size, [gas1,gas2,p1,p2])))"
   ]
  }
 ],
 "metadata": {
  "kernelspec": {
   "display_name": "Python 3",
   "language": "python",
   "name": "python3"
  },
  "language_info": {
   "codemirror_mode": {
    "name": "ipython",
    "version": 3
   },
   "file_extension": ".py",
   "mimetype": "text/x-python",
   "name": "python",
   "nbconvert_exporter": "python",
   "pygments_lexer": "ipython3",
   "version": "3.6.5"
  },
  "varInspector": {
   "cols": {
    "lenName": 16,
    "lenType": 16,
    "lenVar": 40
   },
   "kernels_config": {
    "python": {
     "delete_cmd_postfix": "",
     "delete_cmd_prefix": "del ",
     "library": "var_list.py",
     "varRefreshCmd": "print(var_dic_list())"
    },
    "r": {
     "delete_cmd_postfix": ") ",
     "delete_cmd_prefix": "rm(",
     "library": "var_list.r",
     "varRefreshCmd": "cat(var_dic_list()) "
    }
   },
   "types_to_exclude": [
    "module",
    "function",
    "builtin_function_or_method",
    "instance",
    "_Feature"
   ],
   "window_display": false
  }
 },
 "nbformat": 4,
 "nbformat_minor": 2
}
