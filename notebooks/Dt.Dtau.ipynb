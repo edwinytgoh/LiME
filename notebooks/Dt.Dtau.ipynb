{
 "cells": [
  {
   "cell_type": "markdown",
   "metadata": {},
   "source": [
    "# Dt/dtaumix study"
   ]
  },
  {
   "cell_type": "code",
   "execution_count": null,
   "metadata": {},
   "outputs": [],
   "source": [
    "import sys\n",
    "githubPath = r\"K:/Dropbox (GaTech)/DOE/BatchPaSR\"\n",
    "sys.path.insert(0, githubPath)\n",
    "import BatchPaSR as bp; \n",
    "import CanteraTools as ct_tools; \n",
    "import cantera as ct;\n",
    "import matplotlib.pyplot as plt\n",
    "%matplotlib inline"
   ]
  },
  {
   "cell_type": "code",
   "execution_count": null,
   "metadata": {},
   "outputs": [],
   "source": [
    "phi_global = 0.635\n",
    "phi_main = 0.3719\n",
    "tau_sec = 0.28\n",
    "tau_global = 20\n",
    "tau_mix = [0.005, 0.01, 0.05, 0.1, 0.3]\n",
    "P = 25 * ct.one_atm\n",
    "miliseconds = 0.001"
   ]
  },
  {
   "cell_type": "code",
   "execution_count": null,
   "metadata": {},
   "outputs": [],
   "source": [
    "#making figures\n",
    "fig1, (Tvst, COvt, NOvt) = plt.subplots(nrows=3,ncols=1)\n",
    "plt.xlabel('Time (seconds)')\n",
    "Tvst.set_title(\"Average Tempature over Time for Tau_mix = 0.005\")\n",
    "COvt.set_title('Average CO Concentration over time for Tau_mix = 0.005 (uncorrected ppm)')\n",
    "NOvt.set_title('Average NO Concentration over time for Tau_mix = 0.005 (uncorrected ppm)')\n",
    "\n",
    "fig2, (Tvstq, COvtq, NOvtq) = plt.subplots(nrows=3,ncols=1)\n",
    "plt.xlabel('Time (seconds)')\n",
    "Tvstq.set_title(\"Average Tempature over Time for Tau_mix = 0.05\")\n",
    "COvtq.set_title('Average CO Concentration over time for Tau_mix = 0.05 (uncorrected ppm)')\n",
    "NOvtq.set_title('Average NO Concentration over time for Tau_mix = 0.05 (uncorrected ppm)')\n",
    "\n",
    "fig3, (Tvstw, COvtw, NOvtw) = plt.subplots(nrows=3,ncols=1)\n",
    "plt.xlabel('Time (seconds)')\n",
    "Tvstw.set_title(\"Average Tempature over Time for Tau_mix = 0.01\")\n",
    "COvtw.set_title('Average CO Concentration over time for Tau_mix = 0.01 (uncorrected ppm)')\n",
    "NOvtw.set_title('Average NO Concentration over time for Tau_mix = 0.01 (uncorrected ppm)')\n",
    "\n",
    "fig4, (Tvste, COvte, NOvte) = plt.subplots(nrows=3,ncols=1)\n",
    "plt.xlabel('Time (seconds)')\n",
    "Tvste.set_title(\"Average Tempature over Time for Tau_mix = 0.1\")\n",
    "COvte.set_title('Average CO Concentration over time for Tau_mix = 0.1 (uncorrected ppm)')\n",
    "NOvte.set_title('Average NO Concentration over time for Tau_mix = 0.1 (uncorrected ppm)')\n",
    "\n",
    "fig5, (Tvstr, COvtr, NOvtr) = plt.subplots(nrows=3,ncols=1)\n",
    "plt.xlabel('Time (seconds)')\n",
    "Tvstr.set_title(\"Average Tempature over Time for Tau_mix = 0.3\")\n",
    "COvtr.set_title('Average CO Concentration over time for Tau_mix = 0.3 (uncorrected ppm)')\n",
    "NOvtr.set_title('Average NO Concentration over time for Tau_mix = 0.3 (uncorrected ppm)')"
   ]
  },
  {
   "cell_type": "code",
   "execution_count": null,
   "metadata": {},
   "outputs": [],
   "source": [
    "for y in range(0,8):\n",
    "\n",
    "    for x in range(0,5):\n",
    "    #note add somewhere on graph that tau_mix is in miliseconds\n",
    "    #add somewhere to include # of particles\n",
    "        [mfm, mam, mfs, mas] = solvePhi_airSplit(phi_global, phi_main, 100, 1)\n",
    "        [vit_reactor, main_burner_DF] = runMainBurner(phi_main, (tau_global-tau_sec)*milliseconds)\n",
    "        vit_particle = Particle.from_gas(vit_reactor.thermo, particle_mass = mfm+mam)\n",
    "\n",
    "        ms = miliseconds+y*1e-3\n",
    "        dt = miliseconds * ms # in milliseconds\n",
    "        secondary_gas = ct.Solution('gri30.xml')\n",
    "        secondary_gas.TPX = 300, 25*ct.one_atm, {'CH4':1}\n",
    "        secondary_part = Particle.from_gas(secondary_gas, particle_mass=mfs+mas)\n",
    "\n",
    "        bp = LiME(particle_list=[vit_particle, secondary_part], dt=dt, N_MAX=1000)\n",
    "        states = ct.SolutionArray(bp.mean_gas, extra=['t'])\n",
    "        enthalpy = []\n",
    "        t = np.arange(0, .4*milliseconds, bp.dt)\n",
    "\n",
    "        #bp.prep_entrainment(added_gas = vit_reactor.thermo, total_mass_added = (mam+mfm), tau_ent = totalTime, numParticles=20, method='constant')\n",
    "        for i in range(0,t.size):\n",
    "            #bp.entrain(t[i])\n",
    "            bp.react()\n",
    "            bp.mix(tau_mix=tau_mix[x]*milliseconds)\n",
    "            states.append(bp.mean_gas.state, t=t[i])\n",
    "            enthalpy.append(bp.mean_gas.enthalpy_mass)\n",
    "        if x == 0:\n",
    "            Tvst.plot(states.t, states.T, label = 'dt = %s' %(ms))\n",
    "            COvt.plot(states.t, states('CO').X*1e6, label = 'dt = %s' %(ms))\n",
    "            NOvt.plot(states.t, states('NO').X*1e6, label = 'dt = %s' %(ms))\n",
    "            #NOvCO.plot(states('CO').X*1e6, states('NO').X*1e6, label = 'Tau_mix = %s' %(tau_mix[x]) )\n",
    "        if x == 1:\n",
    "            Tvstq.plot(states.t, states.T, label = 'dt = %s' %(ms))\n",
    "            COvtq.plot(states.t, states('CO').X*1e6, label = 'dt = %s' %(ms))\n",
    "            NOvtq.plot(states.t, states('NO').X*1e6, label = 'dt = %s' %(ms))\n",
    "        if x == 2:\n",
    "            Tvstw.plot(states.t, states.T, label = 'dt = %s' %(ms))\n",
    "            COvtw.plot(states.t, states('CO').X*1e6, label = 'dt = %s' %(ms))\n",
    "            NOvtw.plot(states.t, states('NO').X*1e6, label = 'dt = %s' %(ms))\n",
    "        if x == 3:\n",
    "            Tvste.plot(states.t, states.T, label = 'dt = %s' %(ms))\n",
    "            COvte.plot(states.t, states('CO').X*1e6, label = 'dt = %s' %(ms))\n",
    "            NOvte.plot(states.t, states('NO').X*1e6, label = 'dt = %s' %(ms))\n",
    "        if x == 4:\n",
    "            Tvstr.plot(states.t, states.T, label = 'dt = %s' %(ms))\n",
    "            COvtr.plot(states.t, states('CO').X*1e6, label = 'dt = %s' %(ms))\n",
    "            NOvtr.plot(states.t, states('NO').X*1e6, label = 'dt = %s' %(ms))\n",
    "\n",
    "        \n",
    "            \n",
    "\n",
    "    \n",
    "for ax in [COvt, COvte, COvtq, COvtr, COvtw, NOvt, NOvte, NOvtq, NOvtr, NOvtw, Tvst, Tvste, Tvstq, Tvstr, Tvstw]:\n",
    "    ax.grid(True)\n",
    "    ax.label_outer()\n",
    "    ax.legend()"
   ]
  },
  {
   "cell_type": "code",
   "execution_count": null,
   "metadata": {},
   "outputs": [],
   "source": [
    "fig1.savefig('Taum1')\n",
    "fig2.savefig('Taum2')\n",
    "fig3.savefig('Taum3')\n",
    "fig4.savefig('Taum4')\n",
    "fig5.savefig('Taum5')"
   ]
  },
  {
   "cell_type": "code",
   "execution_count": null,
   "metadata": {},
   "outputs": [],
   "source": [
    "plt.show()"
   ]
  }
 ],
 "metadata": {
  "kernelspec": {
   "display_name": "Python 3",
   "language": "python",
   "name": "python3"
  },
  "language_info": {
   "codemirror_mode": {
    "name": "ipython",
    "version": 3
   },
   "file_extension": ".py",
   "mimetype": "text/x-python",
   "name": "python",
   "nbconvert_exporter": "python",
   "pygments_lexer": "ipython3",
   "version": "3.6.5"
  }
 },
 "nbformat": 4,
 "nbformat_minor": 2
}
