{
 "cells": [
  {
   "cell_type": "code",
   "execution_count": 1,
   "metadata": {},
   "outputs": [],
   "source": [
    "import sys\n",
    "sys.path.insert(0, \"../\")\n",
    "import BatchPaSR as bp\n",
    "from CanteraTools import *    \n",
    "import plotly\n",
    "import plotly.plotly as pplotly\n",
    "import plotly.graph_objs as go\n",
    "plotly.tools.set_credentials_file(username='edwin217', api_key='hoh1lSzTIVSeckYhrNYL')\n",
    "import warnings\n",
    "import IPython.core.formatters\n",
    "warnings.filterwarnings('ignore', category=UserWarning)\n",
    "\n"
   ]
  },
  {
   "cell_type": "markdown",
   "metadata": {},
   "source": [
    "### phi_global = 0.635\n",
    "\n",
    "### phi_main = 0.3719 \n",
    "\n",
    "### tau_main = 20 - 0.28 ms\n",
    "\n",
    "### P = 25 kg\n",
    "\n",
    "### total_mass = 1 kg"
   ]
  },
  {
   "cell_type": "code",
   "execution_count": 2,
   "metadata": {
    "jupyter": {
     "source_hidden": true
    }
   },
   "outputs": [
    {
     "name": "stdout",
     "output_type": "stream",
     "text": [
      "Vitiator end time: 19.719906328977743 milliseconds\n",
      "Initial mainBurnerDF length: 379\n",
      "New mainBurnerDF length: 1291\n"
     ]
    }
   ],
   "source": [
    "phi_global = 0.635\n",
    "phi_main = 0.3719\n",
    "tau_main = 20 - 0.28\n",
    "tau_global = 20\n",
    "tau_mix = [0.005, 0.01, 0.05, 0.1, 0.3]\n",
    "P = 25 * ct.one_atm\n",
    "miliseconds = 0.001\n",
    "total_mass = 1\n",
    "fs = 0.058387057492574147\n",
    "# Go ahead and run main burner since everything is fixed\n",
    "[mfm, mam, mfs, mas] = solve_mass_airsplit(phi_global, phi_main, total_mass, 1)\n",
    "# print(f\"mfm = {mfm:.3f}; mam = {mam:.3f}; mfs = {mfs:.3f}; mas = {mas:.3f}\")\n",
    "# print(f\"phi_main = {mfm/mam/fs:.3f}; phi_sec = {mfs/mas/fs:.3f}; phi_global = {(mfm+mfs)/(mas+mam)/fs}\")\n",
    "[vit_reactor, main_burner_DF] = run_main_burner(phi_main, tau_main*milliseconds)\n",
    "vit_particle = bp.Particle.from_gas(vit_reactor.thermo, particle_mass = mfm+mam)\n",
    "fuel = ct.Solution('gri30.xml')\n",
    "fuel.TPX = 300, P, {'CH4':1} # TODO: Come up with a more general way of doing secondary gas so that we can have both fuel and air \n",
    "air = ct.Solution('gri30.xml'); \n",
    "air.TPX = 650, P, {'O2':0.21, 'N2':0.79}\n",
    "secondary_gas = mix([fuel, air], [mfs, mas], P = P)\n",
    "secondary_part = bp.Particle.from_gas(secondary_gas, particle_mass=mfs+mas)"
   ]
  },
  {
   "cell_type": "markdown",
   "metadata": {},
   "source": [
    "# Test 1: Running a LiME with Fixed Entrainment of Both Streams, tau_mix = 0.03 ms"
   ]
  },
  {
   "cell_type": "code",
   "execution_count": 3,
   "metadata": {},
   "outputs": [
    {
     "name": "stdout",
     "output_type": "stream",
     "text": [
      "u_crossflow = 20.00 m/s\n",
      "u_jet = 20.61 m/s\n",
      "\n",
      "Vitiated product mass = 0.985 kg\n",
      "Secondary fluid mass = 0.015 kg\n",
      "\n",
      "Vitiated product density = 5.765 kg/m3\n",
      "Secondary fluid density = 16.292 kg/m3\n",
      "\n",
      "mdot_main = 115.306 kg/s\n",
      "mdot_sec = 33.573 kg/s\n",
      "\n",
      "Time taken to completely entrain main burner fluid = 8.5441 ms\n",
      "Time taken to completely entrain jet fluid = 0.4412 ms\n"
     ]
    }
   ],
   "source": [
    "mass_main = mfm + mam \n",
    "mass_sec = mfs + mas \n",
    "J_ratio = 3\n",
    "rho_crossflow = vit_reactor.thermo.density\n",
    "u_crossflow = 20 # m/s\n",
    "rho_jet = secondary_gas.density\n",
    "u_jet = ((J_ratio * (rho_crossflow * u_crossflow * u_crossflow))/rho_jet)**0.5\n",
    "print(f\"u_crossflow = {u_crossflow:.2f} m/s\")\n",
    "print(f\"u_jet = {u_jet:.2f} m/s\\n\")\n",
    "A_crossflow = 1 # m2\n",
    "A_jet = A_crossflow/10\n",
    "\n",
    "mdot_main = vit_reactor.thermo.density * A_crossflow * u_crossflow \n",
    "mdot_sec = rho_jet * A_jet * u_jet\n",
    "print(f\"Vitiated product mass = {mass_main:.3f} kg\\nSecondary fluid mass = {mass_sec:.3f} kg\\n\")\n",
    "print(f\"Vitiated product density = {vit_reactor.thermo.density:.3f} kg/m3\\nSecondary fluid density = {secondary_gas.density:.3f} kg/m3\\n\")\n",
    "print(f\"mdot_main = {mdot_main:.3f} kg/s\\nmdot_sec = {mdot_sec:.3f} kg/s\\n\")\n",
    "print(f\"Time taken to completely entrain main burner fluid = {mass_main/mdot_main*1e3:.4f} ms\")\n",
    "print(f\"Time taken to completely entrain jet fluid = {mass_sec/mdot_sec*1e3:.4f} ms\")"
   ]
  },
  {
   "cell_type": "code",
   "execution_count": 4,
   "metadata": {},
   "outputs": [],
   "source": [
    "pasbr = bp.LiME([], N_MAX=200, dt=0.001*milliseconds)"
   ]
  },
  {
   "cell_type": "code",
   "execution_count": 5,
   "metadata": {
    "collapsed": true,
    "jupyter": {
     "outputs_hidden": true,
     "source_hidden": true
    }
   },
   "outputs": [
    {
     "name": "stdout",
     "output_type": "stream",
     "text": [
      "dt_entrain = 0.2848 ms\n",
      "Time taken = 6.37 minutes\n"
     ]
    }
   ],
   "source": [
    "t1 = time.time()\n",
    "def massflowfcnmain(time):\n",
    "    if time <= mass_main/mdot_main:\n",
    "        return mdot_main\n",
    "    else:\n",
    "        return 0\n",
    "\n",
    "def massflowfcnsec(time):\n",
    "    if time <= mass_sec/mdot_sec:\n",
    "        return mdot_sec\n",
    "    else:\n",
    "        return 0\n",
    "totalTime = 10*milliseconds\n",
    "\n",
    "dt_entrain = (mass_main/mdot_main)/30\n",
    "print(f\"dt_entrain = {dt_entrain/1e-3:.4f} ms\")\n",
    "t = np.arange(0, totalTime, pasbr.dt)\n",
    "pfc_vit = bp.ParticleFlowController(pasbr, vit_reactor.thermo, mass_main, dt_entrain, method=massflowfcnmain)\n",
    "# pfc_vit.gas()\n",
    "pfc_sec = bp.ParticleFlowController(pasbr, secondary_gas, mass_sec, dt_entrain, method=massflowfcnsec)\n",
    "# pfc_sec.gas()\n",
    "for i in range(0,t.size):\n",
    "    pfc_vit.entrain(t[i])\n",
    "    pfc_sec.entrain(t[i])\n",
    "#     pdb.set_trace()\n",
    "    pasbr.react()\n",
    "    pasbr.mix(tau_mix=0.03*milliseconds)\n",
    "t2 = time.time(); \n",
    "print(f\"Time taken = {(t2-t1)/60:.2f} minutes\")"
   ]
  },
  {
   "cell_type": "code",
   "execution_count": 6,
   "metadata": {
    "jupyter": {
     "source_hidden": true
    }
   },
   "outputs": [],
   "source": [
    "df = pasbr.get_time_history()\n",
    "particle_historyList = [p.get_time_history(dataFrame=True) for p in pasbr.particle_list]\n",
    "for i in range(0, len(particle_historyList)):\n",
    "    particle_historyList[i].age += totalTime - particle_historyList[i].age.iloc[-1]"
   ]
  },
  {
   "cell_type": "code",
   "execution_count": 11,
   "metadata": {
    "jupyter": {
     "source_hidden": true
    }
   },
   "outputs": [
    {
     "ename": "PlotlyRequestError",
     "evalue": "<html>\r\n<head><title>502 Bad Gateway</title></head>\r\n<body bgcolor=\"white\">\r\n<center><h1>502 Bad Gateway</h1></center>\r\n<hr><center>nginx</center>\r\n</body>\r\n</html>\r\n",
     "output_type": "error",
     "traceback": [
      "\u001b[1;31m---------------------------------------------------------------------------\u001b[0m",
      "\u001b[1;31mJSONDecodeError\u001b[0m                           Traceback (most recent call last)",
      "\u001b[1;32mC:\\ProgramData\\Anaconda3\\envs\\canteraEnv\\lib\\site-packages\\plotly\\api\\v1\\utils.py\u001b[0m in \u001b[0;36mvalidate_response\u001b[1;34m(response)\u001b[0m\n\u001b[0;32m     21\u001b[0m     \u001b[1;32mtry\u001b[0m\u001b[1;33m:\u001b[0m\u001b[1;33m\u001b[0m\u001b[0m\n\u001b[1;32m---> 22\u001b[1;33m         \u001b[0mparsed_content\u001b[0m \u001b[1;33m=\u001b[0m \u001b[0mresponse\u001b[0m\u001b[1;33m.\u001b[0m\u001b[0mjson\u001b[0m\u001b[1;33m(\u001b[0m\u001b[1;33m)\u001b[0m\u001b[1;33m\u001b[0m\u001b[0m\n\u001b[0m\u001b[0;32m     23\u001b[0m     \u001b[1;32mexcept\u001b[0m \u001b[0mValueError\u001b[0m\u001b[1;33m:\u001b[0m\u001b[1;33m\u001b[0m\u001b[0m\n",
      "\u001b[1;32mC:\\ProgramData\\Anaconda3\\envs\\canteraEnv\\lib\\site-packages\\requests\\models.py\u001b[0m in \u001b[0;36mjson\u001b[1;34m(self, **kwargs)\u001b[0m\n\u001b[0;32m    891\u001b[0m                     \u001b[1;32mpass\u001b[0m\u001b[1;33m\u001b[0m\u001b[0m\n\u001b[1;32m--> 892\u001b[1;33m         \u001b[1;32mreturn\u001b[0m \u001b[0mcomplexjson\u001b[0m\u001b[1;33m.\u001b[0m\u001b[0mloads\u001b[0m\u001b[1;33m(\u001b[0m\u001b[0mself\u001b[0m\u001b[1;33m.\u001b[0m\u001b[0mtext\u001b[0m\u001b[1;33m,\u001b[0m \u001b[1;33m**\u001b[0m\u001b[0mkwargs\u001b[0m\u001b[1;33m)\u001b[0m\u001b[1;33m\u001b[0m\u001b[0m\n\u001b[0m\u001b[0;32m    893\u001b[0m \u001b[1;33m\u001b[0m\u001b[0m\n",
      "\u001b[1;32mC:\\ProgramData\\Anaconda3\\envs\\canteraEnv\\lib\\json\\__init__.py\u001b[0m in \u001b[0;36mloads\u001b[1;34m(s, encoding, cls, object_hook, parse_float, parse_int, parse_constant, object_pairs_hook, **kw)\u001b[0m\n\u001b[0;32m    353\u001b[0m             parse_constant is None and object_pairs_hook is None and not kw):\n\u001b[1;32m--> 354\u001b[1;33m         \u001b[1;32mreturn\u001b[0m \u001b[0m_default_decoder\u001b[0m\u001b[1;33m.\u001b[0m\u001b[0mdecode\u001b[0m\u001b[1;33m(\u001b[0m\u001b[0ms\u001b[0m\u001b[1;33m)\u001b[0m\u001b[1;33m\u001b[0m\u001b[0m\n\u001b[0m\u001b[0;32m    355\u001b[0m     \u001b[1;32mif\u001b[0m \u001b[0mcls\u001b[0m \u001b[1;32mis\u001b[0m \u001b[1;32mNone\u001b[0m\u001b[1;33m:\u001b[0m\u001b[1;33m\u001b[0m\u001b[0m\n",
      "\u001b[1;32mC:\\ProgramData\\Anaconda3\\envs\\canteraEnv\\lib\\json\\decoder.py\u001b[0m in \u001b[0;36mdecode\u001b[1;34m(self, s, _w)\u001b[0m\n\u001b[0;32m    338\u001b[0m         \"\"\"\n\u001b[1;32m--> 339\u001b[1;33m         \u001b[0mobj\u001b[0m\u001b[1;33m,\u001b[0m \u001b[0mend\u001b[0m \u001b[1;33m=\u001b[0m \u001b[0mself\u001b[0m\u001b[1;33m.\u001b[0m\u001b[0mraw_decode\u001b[0m\u001b[1;33m(\u001b[0m\u001b[0ms\u001b[0m\u001b[1;33m,\u001b[0m \u001b[0midx\u001b[0m\u001b[1;33m=\u001b[0m\u001b[0m_w\u001b[0m\u001b[1;33m(\u001b[0m\u001b[0ms\u001b[0m\u001b[1;33m,\u001b[0m \u001b[1;36m0\u001b[0m\u001b[1;33m)\u001b[0m\u001b[1;33m.\u001b[0m\u001b[0mend\u001b[0m\u001b[1;33m(\u001b[0m\u001b[1;33m)\u001b[0m\u001b[1;33m)\u001b[0m\u001b[1;33m\u001b[0m\u001b[0m\n\u001b[0m\u001b[0;32m    340\u001b[0m         \u001b[0mend\u001b[0m \u001b[1;33m=\u001b[0m \u001b[0m_w\u001b[0m\u001b[1;33m(\u001b[0m\u001b[0ms\u001b[0m\u001b[1;33m,\u001b[0m \u001b[0mend\u001b[0m\u001b[1;33m)\u001b[0m\u001b[1;33m.\u001b[0m\u001b[0mend\u001b[0m\u001b[1;33m(\u001b[0m\u001b[1;33m)\u001b[0m\u001b[1;33m\u001b[0m\u001b[0m\n",
      "\u001b[1;32mC:\\ProgramData\\Anaconda3\\envs\\canteraEnv\\lib\\json\\decoder.py\u001b[0m in \u001b[0;36mraw_decode\u001b[1;34m(self, s, idx)\u001b[0m\n\u001b[0;32m    356\u001b[0m         \u001b[1;32mexcept\u001b[0m \u001b[0mStopIteration\u001b[0m \u001b[1;32mas\u001b[0m \u001b[0merr\u001b[0m\u001b[1;33m:\u001b[0m\u001b[1;33m\u001b[0m\u001b[0m\n\u001b[1;32m--> 357\u001b[1;33m             \u001b[1;32mraise\u001b[0m \u001b[0mJSONDecodeError\u001b[0m\u001b[1;33m(\u001b[0m\u001b[1;34m\"Expecting value\"\u001b[0m\u001b[1;33m,\u001b[0m \u001b[0ms\u001b[0m\u001b[1;33m,\u001b[0m \u001b[0merr\u001b[0m\u001b[1;33m.\u001b[0m\u001b[0mvalue\u001b[0m\u001b[1;33m)\u001b[0m \u001b[1;32mfrom\u001b[0m \u001b[1;32mNone\u001b[0m\u001b[1;33m\u001b[0m\u001b[0m\n\u001b[0m\u001b[0;32m    358\u001b[0m         \u001b[1;32mreturn\u001b[0m \u001b[0mobj\u001b[0m\u001b[1;33m,\u001b[0m \u001b[0mend\u001b[0m\u001b[1;33m\u001b[0m\u001b[0m\n",
      "\u001b[1;31mJSONDecodeError\u001b[0m: Expecting value: line 1 column 1 (char 0)",
      "\nDuring handling of the above exception, another exception occurred:\n",
      "\u001b[1;31mPlotlyRequestError\u001b[0m                        Traceback (most recent call last)",
      "\u001b[1;32m<ipython-input-11-5ae6fed0e3bf>\u001b[0m in \u001b[0;36m<module>\u001b[1;34m()\u001b[0m\n\u001b[0;32m      6\u001b[0m \u001b[0mT_traces\u001b[0m \u001b[1;33m=\u001b[0m \u001b[1;33m[\u001b[0m\u001b[0mgo\u001b[0m\u001b[1;33m.\u001b[0m\u001b[0mScatter\u001b[0m\u001b[1;33m(\u001b[0m\u001b[0mx\u001b[0m \u001b[1;33m=\u001b[0m \u001b[0mparticle_historyList\u001b[0m\u001b[1;33m[\u001b[0m\u001b[0mi\u001b[0m\u001b[1;33m]\u001b[0m\u001b[1;33m[\u001b[0m\u001b[1;34m'age'\u001b[0m\u001b[1;33m]\u001b[0m\u001b[1;33m/\u001b[0m\u001b[0mmilliseconds\u001b[0m\u001b[1;33m,\u001b[0m \u001b[0my\u001b[0m \u001b[1;33m=\u001b[0m \u001b[0mparticle_historyList\u001b[0m\u001b[1;33m[\u001b[0m\u001b[0mi\u001b[0m\u001b[1;33m]\u001b[0m\u001b[1;33m[\u001b[0m\u001b[1;34m'T'\u001b[0m\u001b[1;33m]\u001b[0m\u001b[1;33m,\u001b[0m \u001b[0mmode\u001b[0m \u001b[1;33m=\u001b[0m \u001b[1;34m'lines'\u001b[0m\u001b[1;33m,\u001b[0m \u001b[0myaxis\u001b[0m\u001b[1;33m=\u001b[0m\u001b[1;34m'y2'\u001b[0m\u001b[1;33m,\u001b[0m \u001b[0mname\u001b[0m \u001b[1;33m=\u001b[0m \u001b[1;34mf\"Particle {i} Temp 0.03 ms\"\u001b[0m\u001b[1;33m,\u001b[0m \u001b[0mline\u001b[0m \u001b[1;33m=\u001b[0m \u001b[1;33m{\u001b[0m\u001b[1;34m'dash'\u001b[0m\u001b[1;33m:\u001b[0m\u001b[1;34m'dot'\u001b[0m\u001b[1;33m,\u001b[0m \u001b[1;34m'width'\u001b[0m\u001b[1;33m:\u001b[0m\u001b[1;36m2.0\u001b[0m\u001b[1;33m}\u001b[0m\u001b[1;33m)\u001b[0m \u001b[1;32mfor\u001b[0m \u001b[0mi\u001b[0m \u001b[1;32min\u001b[0m \u001b[0mrange\u001b[0m\u001b[1;33m(\u001b[0m\u001b[1;36m0\u001b[0m\u001b[1;33m,\u001b[0m \u001b[0mlen\u001b[0m\u001b[1;33m(\u001b[0m\u001b[0mparticle_historyList\u001b[0m\u001b[1;33m)\u001b[0m\u001b[1;33m)\u001b[0m\u001b[1;33m]\u001b[0m\u001b[1;33m\u001b[0m\u001b[0m\n\u001b[0;32m      7\u001b[0m \u001b[0mT_fig\u001b[0m \u001b[1;33m=\u001b[0m \u001b[0mgo\u001b[0m\u001b[1;33m.\u001b[0m\u001b[0mFigure\u001b[0m\u001b[1;33m(\u001b[0m\u001b[0mdata\u001b[0m\u001b[1;33m=\u001b[0m\u001b[0mT_traces\u001b[0m\u001b[1;33m)\u001b[0m\u001b[1;33m\u001b[0m\u001b[0m\n\u001b[1;32m----> 8\u001b[1;33m \u001b[0mpplotly\u001b[0m\u001b[1;33m.\u001b[0m\u001b[0miplot\u001b[0m\u001b[1;33m(\u001b[0m\u001b[0mT_fig\u001b[0m\u001b[1;33m,\u001b[0m \u001b[0mfilename\u001b[0m\u001b[1;33m=\u001b[0m\u001b[1;34m'T_0.001ms'\u001b[0m\u001b[1;33m,\u001b[0m \u001b[0mfileopt\u001b[0m\u001b[1;33m=\u001b[0m\u001b[1;34m'append'\u001b[0m\u001b[1;33m)\u001b[0m\u001b[1;33m\u001b[0m\u001b[0m\n\u001b[0m",
      "\u001b[1;32mC:\\ProgramData\\Anaconda3\\envs\\canteraEnv\\lib\\site-packages\\plotly\\plotly\\plotly.py\u001b[0m in \u001b[0;36miplot\u001b[1;34m(figure_or_data, **plot_options)\u001b[0m\n\u001b[0;32m    143\u001b[0m     \u001b[1;32mif\u001b[0m \u001b[1;34m'auto_open'\u001b[0m \u001b[1;32mnot\u001b[0m \u001b[1;32min\u001b[0m \u001b[0mplot_options\u001b[0m\u001b[1;33m:\u001b[0m\u001b[1;33m\u001b[0m\u001b[0m\n\u001b[0;32m    144\u001b[0m         \u001b[0mplot_options\u001b[0m\u001b[1;33m[\u001b[0m\u001b[1;34m'auto_open'\u001b[0m\u001b[1;33m]\u001b[0m \u001b[1;33m=\u001b[0m \u001b[1;32mFalse\u001b[0m\u001b[1;33m\u001b[0m\u001b[0m\n\u001b[1;32m--> 145\u001b[1;33m     \u001b[0murl\u001b[0m \u001b[1;33m=\u001b[0m \u001b[0mplot\u001b[0m\u001b[1;33m(\u001b[0m\u001b[0mfigure_or_data\u001b[0m\u001b[1;33m,\u001b[0m \u001b[1;33m**\u001b[0m\u001b[0mplot_options\u001b[0m\u001b[1;33m)\u001b[0m\u001b[1;33m\u001b[0m\u001b[0m\n\u001b[0m\u001b[0;32m    146\u001b[0m \u001b[1;33m\u001b[0m\u001b[0m\n\u001b[0;32m    147\u001b[0m     \u001b[1;32mif\u001b[0m \u001b[0misinstance\u001b[0m\u001b[1;33m(\u001b[0m\u001b[0mfigure_or_data\u001b[0m\u001b[1;33m,\u001b[0m \u001b[0mdict\u001b[0m\u001b[1;33m)\u001b[0m\u001b[1;33m:\u001b[0m\u001b[1;33m\u001b[0m\u001b[0m\n",
      "\u001b[1;32mC:\\ProgramData\\Anaconda3\\envs\\canteraEnv\\lib\\site-packages\\plotly\\plotly\\plotly.py\u001b[0m in \u001b[0;36mplot\u001b[1;34m(figure_or_data, validate, **plot_options)\u001b[0m\n\u001b[0;32m    240\u001b[0m     \u001b[0mdata\u001b[0m \u001b[1;33m=\u001b[0m \u001b[0mfig\u001b[0m\u001b[1;33m.\u001b[0m\u001b[0mget\u001b[0m\u001b[1;33m(\u001b[0m\u001b[1;34m'data'\u001b[0m\u001b[1;33m,\u001b[0m \u001b[1;33m[\u001b[0m\u001b[1;33m]\u001b[0m\u001b[1;33m)\u001b[0m\u001b[1;33m\u001b[0m\u001b[0m\n\u001b[0;32m    241\u001b[0m     \u001b[0mplot_options\u001b[0m\u001b[1;33m[\u001b[0m\u001b[1;34m'layout'\u001b[0m\u001b[1;33m]\u001b[0m \u001b[1;33m=\u001b[0m \u001b[0mfig\u001b[0m\u001b[1;33m.\u001b[0m\u001b[0mget\u001b[0m\u001b[1;33m(\u001b[0m\u001b[1;34m'layout'\u001b[0m\u001b[1;33m,\u001b[0m \u001b[1;33m{\u001b[0m\u001b[1;33m}\u001b[0m\u001b[1;33m)\u001b[0m\u001b[1;33m\u001b[0m\u001b[0m\n\u001b[1;32m--> 242\u001b[1;33m     \u001b[0mresponse\u001b[0m \u001b[1;33m=\u001b[0m \u001b[0mv1\u001b[0m\u001b[1;33m.\u001b[0m\u001b[0mclientresp\u001b[0m\u001b[1;33m(\u001b[0m\u001b[0mdata\u001b[0m\u001b[1;33m,\u001b[0m \u001b[1;33m**\u001b[0m\u001b[0mplot_options\u001b[0m\u001b[1;33m)\u001b[0m\u001b[1;33m\u001b[0m\u001b[0m\n\u001b[0m\u001b[0;32m    243\u001b[0m \u001b[1;33m\u001b[0m\u001b[0m\n\u001b[0;32m    244\u001b[0m     \u001b[1;31m# Check if the url needs a secret key\u001b[0m\u001b[1;33m\u001b[0m\u001b[1;33m\u001b[0m\u001b[0m\n",
      "\u001b[1;32mC:\\ProgramData\\Anaconda3\\envs\\canteraEnv\\lib\\site-packages\\plotly\\api\\v1\\clientresp.py\u001b[0m in \u001b[0;36mclientresp\u001b[1;34m(data, **kwargs)\u001b[0m\n\u001b[0;32m     33\u001b[0m \u001b[1;33m\u001b[0m\u001b[0m\n\u001b[0;32m     34\u001b[0m     \u001b[0murl\u001b[0m \u001b[1;33m=\u001b[0m \u001b[1;34m'{plotly_domain}/clientresp'\u001b[0m\u001b[1;33m.\u001b[0m\u001b[0mformat\u001b[0m\u001b[1;33m(\u001b[0m\u001b[1;33m**\u001b[0m\u001b[0mcfg\u001b[0m\u001b[1;33m)\u001b[0m\u001b[1;33m\u001b[0m\u001b[0m\n\u001b[1;32m---> 35\u001b[1;33m     \u001b[0mresponse\u001b[0m \u001b[1;33m=\u001b[0m \u001b[0mrequest\u001b[0m\u001b[1;33m(\u001b[0m\u001b[1;34m'post'\u001b[0m\u001b[1;33m,\u001b[0m \u001b[0murl\u001b[0m\u001b[1;33m,\u001b[0m \u001b[0mdata\u001b[0m\u001b[1;33m=\u001b[0m\u001b[0mpayload\u001b[0m\u001b[1;33m)\u001b[0m\u001b[1;33m\u001b[0m\u001b[0m\n\u001b[0m\u001b[0;32m     36\u001b[0m \u001b[1;33m\u001b[0m\u001b[0m\n\u001b[0;32m     37\u001b[0m     \u001b[1;31m# Old functionality, just keeping it around.\u001b[0m\u001b[1;33m\u001b[0m\u001b[1;33m\u001b[0m\u001b[0m\n",
      "\u001b[1;32mC:\\ProgramData\\Anaconda3\\envs\\canteraEnv\\lib\\site-packages\\plotly\\api\\v1\\utils.py\u001b[0m in \u001b[0;36mrequest\u001b[1;34m(method, url, **kwargs)\u001b[0m\n\u001b[0;32m     84\u001b[0m         \u001b[0mcontent\u001b[0m \u001b[1;33m=\u001b[0m \u001b[0mresponse\u001b[0m\u001b[1;33m.\u001b[0m\u001b[0mcontent\u001b[0m \u001b[1;32mif\u001b[0m \u001b[0mresponse\u001b[0m \u001b[1;32melse\u001b[0m \u001b[1;34m'No content'\u001b[0m\u001b[1;33m\u001b[0m\u001b[0m\n\u001b[0;32m     85\u001b[0m         \u001b[1;32mraise\u001b[0m \u001b[0mexceptions\u001b[0m\u001b[1;33m.\u001b[0m\u001b[0mPlotlyRequestError\u001b[0m\u001b[1;33m(\u001b[0m\u001b[0mmessage\u001b[0m\u001b[1;33m,\u001b[0m \u001b[0mstatus_code\u001b[0m\u001b[1;33m,\u001b[0m \u001b[0mcontent\u001b[0m\u001b[1;33m)\u001b[0m\u001b[1;33m\u001b[0m\u001b[0m\n\u001b[1;32m---> 86\u001b[1;33m     \u001b[0mvalidate_response\u001b[0m\u001b[1;33m(\u001b[0m\u001b[0mresponse\u001b[0m\u001b[1;33m)\u001b[0m\u001b[1;33m\u001b[0m\u001b[0m\n\u001b[0m\u001b[0;32m     87\u001b[0m     \u001b[1;32mreturn\u001b[0m \u001b[0mresponse\u001b[0m\u001b[1;33m\u001b[0m\u001b[0m\n",
      "\u001b[1;32mC:\\ProgramData\\Anaconda3\\envs\\canteraEnv\\lib\\site-packages\\plotly\\api\\v1\\utils.py\u001b[0m in \u001b[0;36mvalidate_response\u001b[1;34m(response)\u001b[0m\n\u001b[0;32m     23\u001b[0m     \u001b[1;32mexcept\u001b[0m \u001b[0mValueError\u001b[0m\u001b[1;33m:\u001b[0m\u001b[1;33m\u001b[0m\u001b[0m\n\u001b[0;32m     24\u001b[0m         \u001b[0mmessage\u001b[0m \u001b[1;33m=\u001b[0m \u001b[0mcontent\u001b[0m \u001b[1;32mif\u001b[0m \u001b[0mcontent\u001b[0m \u001b[1;32melse\u001b[0m \u001b[1;34m'No Content'\u001b[0m\u001b[1;33m\u001b[0m\u001b[0m\n\u001b[1;32m---> 25\u001b[1;33m         \u001b[1;32mraise\u001b[0m \u001b[0mexceptions\u001b[0m\u001b[1;33m.\u001b[0m\u001b[0mPlotlyRequestError\u001b[0m\u001b[1;33m(\u001b[0m\u001b[0mmessage\u001b[0m\u001b[1;33m,\u001b[0m \u001b[0mstatus_code\u001b[0m\u001b[1;33m,\u001b[0m \u001b[0mcontent\u001b[0m\u001b[1;33m)\u001b[0m\u001b[1;33m\u001b[0m\u001b[0m\n\u001b[0m\u001b[0;32m     26\u001b[0m \u001b[1;33m\u001b[0m\u001b[0m\n\u001b[0;32m     27\u001b[0m     \u001b[0mmessage\u001b[0m \u001b[1;33m=\u001b[0m \u001b[1;34m''\u001b[0m\u001b[1;33m\u001b[0m\u001b[0m\n",
      "\u001b[1;31mPlotlyRequestError\u001b[0m: <html>\r\n<head><title>502 Bad Gateway</title></head>\r\n<body bgcolor=\"white\">\r\n<center><h1>502 Bad Gateway</h1></center>\r\n<hr><center>nginx</center>\r\n</body>\r\n</html>\r\n"
     ]
    }
   ],
   "source": [
    "# T_traces = [go.Scatter(x = particle_historyList[i]['age'], y = particle_historyList[i]['T'], mode = 'lines', yaxis='y2', name = f\"Particle {i} Temp 0.03 ms\") for i in range(0, len(particle_historyList))]\n",
    "# T_fig = go.Figure(data=T_traces)\n",
    "# T_only_url = pplotly.iplot(T_fig, filename='T_0.001ms', fileopt='append')\n",
    "# T_only_url\n",
    "\n",
    "T_traces = [go.Scatter(x = particle_historyList[i]['age']/milliseconds, y = particle_historyList[i]['T'], mode = 'lines', yaxis='y2', name = f\"Particle {i} Temp 0.03 ms\", line = {'dash':'dot', 'width':2.0}) for i in range(0, len(particle_historyList))]\n",
    "T_fig = go.Figure(data=T_traces)\n",
    "pplotly.iplot(T_fig, filename='T_0.001ms', fileopt='append')"
   ]
  },
  {
   "cell_type": "code",
   "execution_count": null,
   "metadata": {
    "collapsed": true,
    "jupyter": {
     "outputs_hidden": true,
     "source_hidden": true
    }
   },
   "outputs": [],
   "source": [
    "Y_NO_trace = go.Scatter(x = df['age']/milliseconds, y = df['Y_NO']*1e6, mode = 'lines', name = 'Y_NO Uncorrected'); \n",
    "X_NO_trace = go.Scatter(x = df['age']/milliseconds, y = df['X_NO']*1e6, mode = 'lines', name = 'X_NO Uncorrected'); \n",
    "X_NO_corr_trace = go.Scatter(x = df['age']/milliseconds, y = correct_nox(df['X_NO'], df['X_H2O'], df['X_O2']), name  = 'X_NO Corrected')\n",
    "\n",
    "NO_and_T_traces = T_traces + [Y_NO_trace,  X_NO_trace,  X_NO_corr_trace]\n",
    "\n",
    "multiAxisLayout = go.Layout(title='NO and Temp', xaxis={'title':\"Time (ms)\"}, yaxis={'title': \"NO (ppm)\"}, yaxis2={'title':\"Temperature(K)\", 'side':\"right\", 'overlaying':\"y\"})\n",
    "NO_fig = go.Figure(data = NO_and_T_traces, layout=multiAxisLayout)\n",
    "\n",
    "NO_url = pplotly.iplot(NO_fig, filename='NO_0.03ms', fileopt='overwrite')\n",
    "NO_url"
   ]
  },
  {
   "cell_type": "code",
   "execution_count": null,
   "metadata": {
    "jupyter": {
     "source_hidden": true
    }
   },
   "outputs": [],
   "source": [
    "Y_CO_trace = go.Scatter(x = df['age']/milliseconds, y = df['Y_CO']*1e6, mode = 'lines', name = 'Y_CO Uncorrected'); \n",
    "X_CO_trace = go.Scatter(x = df['age']/milliseconds, y = df['X_CO']*1e6, mode = 'lines', name = 'X_CO Uncorrected'); \n",
    "X_CO_corr_trace = go.Scatter(x = df['age']/milliseconds, y = correct_nox(df['X_CO'], df['X_H2O'], df['X_O2']), name  = 'X_CO Corrected')\n",
    "\n",
    "CO_and_T_traces = T_traces + [Y_CO_trace, X_CO_trace,  X_CO_corr_trace]\n",
    "\n",
    "# multiAxisLayout = go.Layout(title='CO and Temp', yaxis={'title': \"CO (ppm)\", 'type':'log'}, yaxis2={'title':\"Temperature(K)\", 'side':\"right\", 'overlaying':\"y\"})\n",
    "multiAxisLayout = go.Layout(title='CO and Temp', \n",
    "                            yaxis={'title': \"CO (ppm)\"}, \n",
    "                            yaxis2=dict(overlaying= 'y', \n",
    "                                        anchor= 'x', \n",
    "                                        side= 'right', \n",
    "                                        showgrid= False, \n",
    "                                        title= 'Temperature (K)'))\n",
    "CO_fig = go.Figure(data = CO_and_T_traces, layout=multiAxisLayout)\n",
    "\n",
    "# po.iplot(CO_fig, filename = 'CO_and_temp', image='png')\n",
    "CO_url = pplotly.iplot(CO_fig, filename='CO_0.03ms', fileopt='overwrite')\n",
    "CO_url"
   ]
  },
  {
   "cell_type": "code",
   "execution_count": 12,
   "metadata": {},
   "outputs": [
    {
     "data": {
      "text/html": [
       "<iframe id=\"igraph\" scrolling=\"no\" style=\"border:none;\" seamless=\"seamless\" src=\"https://plot.ly/~edwin217/58.embed\" height=\"525px\" width=\"100%\"></iframe>"
      ],
      "text/plain": [
       "<plotly.tools.PlotlyDisplay object>"
      ]
     },
     "execution_count": 12,
     "metadata": {},
     "output_type": "execute_result"
    }
   ],
   "source": [
    "X_NO_corr_trace = go.Scatter(x = df['age']/milliseconds, y = correct_nox(df['X_NO'], df['X_H2O'], df['X_O2']), name  = 'X_NO Corrected 0.03ms', mode='lines')\n",
    "X_CO_corr_trace = go.Scatter(x = df['age']/milliseconds, y = correct_nox(df['X_CO'], df['X_H2O'], df['X_O2']), name  = 'X_CO Corrected 0.03ms', mode='lines')\n",
    "\n",
    "\n",
    "NO_only_layout = go.Layout(xaxis = {'title': 'Time (ms)'}, yaxis = {'title': 'NO (ppm)'})\n",
    "NO_only_fig = go.Figure(data=[X_NO_corr_trace], layout=NO_only_layout)\n",
    "NO_only_url = pplotly.iplot(NO_only_fig, filename='NO_only', fileopt='append')\n",
    "\n",
    "CO_only_layout = go.Layout(xaxis = {'title': 'Time (ms)'}, yaxis = {'title': 'CO (ppm)'})\n",
    "CO_only_fig = go.Figure(data = [X_CO_corr_trace], layout=CO_only_layout)\n",
    "CO_only_url = pplotly.iplot(CO_only_fig, filename='CO_only', fileopt='append')\n",
    "\n",
    "NO_only_url\n"
   ]
  },
  {
   "cell_type": "code",
   "execution_count": 13,
   "metadata": {},
   "outputs": [
    {
     "data": {
      "text/html": [
       "<iframe id=\"igraph\" scrolling=\"no\" style=\"border:none;\" seamless=\"seamless\" src=\"https://plot.ly/~edwin217/60.embed\" height=\"525px\" width=\"100%\"></iframe>"
      ],
      "text/plain": [
       "<plotly.tools.PlotlyDisplay object>"
      ]
     },
     "execution_count": 13,
     "metadata": {},
     "output_type": "execute_result"
    }
   ],
   "source": [
    "CO_only_url"
   ]
  }
 ],
 "metadata": {
  "kernelspec": {
   "display_name": "Python 3",
   "language": "python",
   "name": "python3"
  },
  "language_info": {
   "codemirror_mode": {
    "name": "ipython",
    "version": 3
   },
   "file_extension": ".py",
   "mimetype": "text/x-python",
   "name": "python",
   "nbconvert_exporter": "python",
   "pygments_lexer": "ipython3",
   "version": "3.6.5"
  }
 },
 "nbformat": 4,
 "nbformat_minor": 2
}
