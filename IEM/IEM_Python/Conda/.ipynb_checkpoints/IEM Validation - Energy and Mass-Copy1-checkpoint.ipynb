{
 "cells": [
  {
   "cell_type": "markdown",
   "metadata": {},
   "source": [
    "# Validation of IEM Mixing Model \n",
    "## Goals:\n",
    "    1. Total system mass must be conserved\n",
    "    2. Total system enthalpy must be conserved\n",
    "    3. Mass fractions for each reactor must sum up to 1 at all times. "
   ]
  },
  {
   "cell_type": "code",
   "execution_count": null,
   "metadata": {
    "collapsed": true
   },
   "outputs": [],
   "source": [
    "# For the Glory of God\n",
    "# Import required packages and tools: \n",
    "from collections import Counter\n",
    "from cantera import Solution\n",
    "from cantera._cantera import ConstPressureReactor, ReactorNet\n",
    "from matplotlib.pyplot import plot, show\n",
    "import matplotlib.pyplot as plt\n",
    "from numpy.ma import array, arange\n",
    "import pandas as pd\n",
    "import numpy as np\n",
    "\n",
    "# Create t vector\n",
    "milliseconds = 0.001;\n",
    "dt = 0.0005*milliseconds;\n",
    "tau_mix = 0.05*milliseconds;\n",
    "omega = 1/tau_mix;\n",
    "end_time = 120*milliseconds;\n",
    "t = arange(0, end_time, dt)\n"
   ]
  },
  {
   "cell_type": "markdown",
   "metadata": {},
   "source": [
    "### Function to Create Reactor Network of Three Reactors: "
   ]
  },
  {
   "cell_type": "code",
   "execution_count": 4,
   "metadata": {
    "collapsed": true
   },
   "outputs": [],
   "source": [
    "def createReactorNetwork():\n",
    "    m = array([6, 2, 0.5]);\n",
    "    s1 = Solution('h2o2.cti');\n",
    "    s2 = Solution('h2o2.cti');\n",
    "    s3 = Solution('h2o2.cti');\n",
    "\n",
    "    s1.TPX = 200, 101325, 'H2:0.75, O2:0.25';\n",
    "    s2.TPX = [300, 101325, 'O2:0.75, H2:0.25'];\n",
    "    s3.TPX = [500, 101325, 'H2:1, O2:0.5'];\n",
    "#     s3.equilibrate('HP');\n",
    "    tpArray = array([s1, s2, s3])\n",
    "    \n",
    "    r1 = ConstPressureReactor(s1);\n",
    "    r2 = ConstPressureReactor(s2);\n",
    "    r3 = ConstPressureReactor(s3);\n",
    "    rArray = array([r1, r2, r3])\n",
    "    \n",
    "    rn = ReactorNet([r1, r2, r3]);\n",
    "    \n",
    "    r1.syncState(); \n",
    "    r2.syncState(); \n",
    "    r3.syncState();\n",
    "    rn.reinitialize()\n",
    "    return m, tpArray, rArray, rn;"
   ]
  },
  {
   "cell_type": "markdown",
   "metadata": {},
   "source": [
    "### IEM Mixing Model"
   ]
  },
  {
   "cell_type": "code",
   "execution_count": 19,
   "metadata": {},
   "outputs": [],
   "source": [
    "def iem(m, tpArray, rArray, rn, dt, omega):\n",
    "# Constant k:\n",
    "    C_phi = 1;\n",
    "    k = -C_phi * omega * 0.5 * dt;\n",
    "\n",
    "# Calculate average: \n",
    "    m_total_r = 1/sum(m)\n",
    "    H_total = 0; \n",
    "    M_species_total = array([0.00]*tpArray[0].n_species)\n",
    "    for i in range(0,len(tpArray)):\n",
    "        M_species_total += m[i] * tpArray[i].Y; # List of total mass across all reactors of each species\n",
    "        H_total += m[i] * tpArray[i].enthalpy_mass\n",
    "\n",
    "    Y_avg = M_species_total * m_total_r # Y_species_avg = (M_total_species)/(M_total_system)\n",
    "    h_avg = H_total * m_total_r; # H_avg is the specific mass-weighted average across all reactors of the total enthalpy.\n",
    "\n",
    "# Adjust reactor state:     \n",
    "    for i in range(0, len(tpArray)):\n",
    "        h = tpArray[i].enthalpy_mass;\n",
    "        h_new = h + k * (h - h_avg);\n",
    "        Y_current = tpArray[i].Y;\n",
    "        Y_new =  Y_current + k * (Y_current - Y_avg); \n",
    "        tpArray[i].HPY = [h_new, tpArray[i].P, Y_new]\n",
    "        rArray[i].syncState();\n",
    "\n",
    "# Reinitialize reactor network solver:         \n",
    "    rn.reinitialize();"
   ]
  },
  {
   "cell_type": "markdown",
   "metadata": {},
   "source": [
    "## 1. Conservation of Mass: "
   ]
  },
  {
   "cell_type": "code",
   "execution_count": null,
   "metadata": {},
   "outputs": [],
   "source": [
    "m, tpArray, rArray, rn = createReactorNetwork(); \n",
    "\n",
    "# Create table\n",
    "columnNames = ['T'] + ['P'] + ['Enthalpy'] + tpArray[0].species_names \n",
    "timeHistory = [pd.DataFrame(columns=columnNames) for i in range(0,len(tpArray))]\n",
    "\n",
    "\n",
    "for i in range(0, len(t)):\n",
    "    for j in range(0, len(tpArray)):\n",
    "        state = np.hstack([rArray[j].thermo.T, rArray[j].thermo.P, m[j]*rArray[j].thermo.enthalpy_mass, \n",
    "                               rArray[j].thermo.X])\n",
    "        timeHistory[j].loc[t[i]] = state; \n",
    "    iem(m, tpArray, rArray, rn, dt, omega)"
   ]
  }
 ],
 "metadata": {
  "kernelspec": {
   "display_name": "Python 3",
   "language": "python",
   "name": "python3"
  },
  "language_info": {
   "codemirror_mode": {
    "name": "ipython",
    "version": 3
   },
   "file_extension": ".py",
   "mimetype": "text/x-python",
   "name": "python",
   "nbconvert_exporter": "python",
   "pygments_lexer": "ipython3",
   "version": "3.6.3"
  }
 },
 "nbformat": 4,
 "nbformat_minor": 2
}
