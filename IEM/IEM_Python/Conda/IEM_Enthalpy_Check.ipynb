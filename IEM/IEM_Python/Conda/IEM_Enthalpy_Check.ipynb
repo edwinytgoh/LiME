{
 "cells": [
  {
   "cell_type": "code",
   "execution_count": 1,
   "metadata": {
    "collapsed": true
   },
   "outputs": [],
   "source": [
    "# For the Glory of God\n",
    "# Import required packages and tools: \n",
    "from collections import Counter\n",
    "from cantera import Solution\n",
    "from cantera._cantera import ConstPressureReactor, ReactorNet\n",
    "from matplotlib.pyplot import plot, show\n",
    "import matplotlib.pyplot as plt\n",
    "from numpy.ma import array, arange\n",
    "import pandas as pd\n",
    "import numpy as np\n",
    "\n",
    "# Create t vector\n",
    "milliseconds = 0.001;\n",
    "dt = 0.001*milliseconds;\n",
    "tau_mix = 0.05*milliseconds;\n",
    "omega = 1/tau_mix;\n",
    "end_time = 0.5*milliseconds;\n",
    "t = arange(0, end_time, dt)"
   ]
  },
  {
   "cell_type": "code",
   "execution_count": 2,
   "metadata": {
    "collapsed": true
   },
   "outputs": [],
   "source": [
    "def H_sens(tp):\n",
    "    h_mass = tp.enthalpy_mass\n",
    "    tempReactor = Solution('gri30.xml'); \n",
    "    tempReactor.TPX = [298.15, 101325.0000, tp.X]; \n",
    "    h_sens = tp.enthalpy_mass - tempReactor.enthalpy_mass;\n",
    "    return h_sens\n",
    "\n",
    "def H_chem(Y):\n",
    "    tempReactor = Solution('gri30.xml'); \n",
    "    tempReactor.TPY = [298.15, 101325.0000, Y]; \n",
    "    return tempReactor.enthalpy_mass;"
   ]
  },
  {
   "cell_type": "code",
   "execution_count": 3,
   "metadata": {
    "collapsed": true
   },
   "outputs": [],
   "source": [
    "def iem_sens(m, tpArray, rArray, rn, dt, omega):\n",
    "# Constant k:\n",
    "    C_phi = 1;\n",
    "    k = -C_phi * omega * 0.5 * dt;\n",
    "\n",
    "# Calculate average: \n",
    "    m_total_r = 1/sum(m)\n",
    "#     H_total = 0; \n",
    "    h_sens = array([H_sens(tpArray[i]) for i in range(0, len(tpArray))]); \n",
    "    Hsens = m * h_sens\n",
    "    M_species_total = sum([m[i] * tpArray[i].Y for i in range(0, len(tpArray))]); \n",
    "    H_sens_total = sum(Hsens);    \n",
    "#     for i in range(0,len(tpArray)):\n",
    "#         M_species_total += m[i] * tpArray[i].Y; # List of total mass across all reactors of each species\n",
    "#         H_total += m[i] * tpArray[i].enthalpy_mass\n",
    "    Y_avg = M_species_total * m_total_r # Y_species_avg = (M_total_species)/(M_total_system)\n",
    "    h_avg = H_sens_total * m_total_r; # H_avg is the specific mass-weighted average across all reactors of the total enthalpy.\n",
    "# Adjust reactor state:     \n",
    "    for i in range(0, len(tpArray)):\n",
    "        Y_current = tpArray[i].Y;\n",
    "        Y_new =  Y_current + k * (Y_current - Y_avg);         \n",
    "        h = tpArray[i].enthalpy_mass;\n",
    "        h_sens_new = h_sens[i] + k * (h_sens[i] - h_avg);\n",
    "        h_new = H_chem(Y_new) + h_sens_new;\n",
    "        tpArray[i].HPY = [h_new, tpArray[i].P, Y_new]\n",
    "        rArray[i].syncState();\n",
    "\n",
    "# Reinitialize reactor network solver:         \n",
    "    rn.reinitialize();"
   ]
  },
  {
   "cell_type": "code",
   "execution_count": 4,
   "metadata": {
    "collapsed": true
   },
   "outputs": [],
   "source": [
    "def createReactorNetwork():\n",
    "    m = array([1, 8, 0.5]);\n",
    "    s1 = Solution('gri30.cti');\n",
    "    s2 = Solution('gri30.cti');\n",
    "    s3 = Solution('gri30.cti');\n",
    "\n",
    "    s1.TPY = 300, 101325, 'H2:1';\n",
    "    s2.TPY = [300, 101325, 'O2:1'];\n",
    "    s3.TPX = [300, 101325, 'CH4:1,O2:2'];\n",
    "    s3.equilibrate('HP');\n",
    "    tpArray = array([s1, s2, s3])\n",
    "    \n",
    "    r1 = ConstPressureReactor(s1);\n",
    "    r2 = ConstPressureReactor(s2);\n",
    "    r3 = ConstPressureReactor(s3);\n",
    "    rArray = array([r1, r2, r3])\n",
    "    \n",
    "    rn = ReactorNet([r1, r2, r3]);\n",
    "    \n",
    "    r1.syncState(); \n",
    "    r2.syncState(); \n",
    "    r3.syncState();\n",
    "    rn.reinitialize()\n",
    "    return m, tpArray, rArray, rn;"
   ]
  },
  {
   "cell_type": "code",
   "execution_count": 5,
   "metadata": {
    "collapsed": true
   },
   "outputs": [],
   "source": [
    "# gas1 = Solution('h2o2.cti'); \n",
    "# gas2 = Solution('h2o2.cti'); \n",
    "# gas3 = Solution('h2o2.cti'); \n",
    "\n",
    "# gas1.TPY = [600.00, 101325, 'H2O:1']; \n",
    "# gas2.TPY = [450.15, 101325, 'O2:1'];\n",
    "# gas3.TPY = [900, 101325, 'H2O:0.5, H2:0.5']\n",
    "\n",
    "# gases = [gas1, gas2, gas3]; \n",
    "# m = [3, 3, 7]\n",
    "# h_sens_list = [H_sens(gases[i]) for i in range(0,3)]\n",
    "# h_chem_list = [H_chem(gases[i]) for i in range(0,3)]"
   ]
  },
  {
   "cell_type": "code",
   "execution_count": 6,
   "metadata": {},
   "outputs": [],
   "source": [
    "m, tpArray, rArray, rn = createReactorNetwork(); \n",
    "# Create table\n",
    "columnNames = ['T'] + ['P'] + ['Enthalpy'] + tpArray[0].species_names \n",
    "timeHistory = [pd.DataFrame(columns=columnNames) for i in range(0,len(tpArray))]\n",
    "\n",
    "counter = 0\n",
    "for i in range(0, len(t)):\n",
    "    for j in range(0, len(tpArray)):\n",
    "        if(counter%10 == 0):        \n",
    "            state = np.hstack([rArray[j].thermo.T, rArray[j].thermo.P, m[j]*tpArray[j].enthalpy_mass, \n",
    "                               rArray[j].thermo.Y])\n",
    "            timeHistory[j].loc[t[i]] = state\n",
    "    counter += 1\n",
    "    iem_sens(m, tpArray, rArray, rn, dt, omega)   \n",
    "    rn.advance(t[i]);"
   ]
  },
  {
   "cell_type": "code",
   "execution_count": 7,
   "metadata": {},
   "outputs": [
    {
     "name": "stdout",
     "output_type": "stream",
     "text": [
      "Initial total enthalpy = -424859.913946 J\n",
      "Final total enthalpy = -424852.010195 J\n"
     ]
    },
    {
     "data": {
      "image/png": "[encoded data removed]",
      "text/plain": [
       "<matplotlib.figure.Figure at 0x204d93d5470>"
      ]
     },
     "metadata": {},
     "output_type": "display_data"
    }
   ],
   "source": [
    "H_total = [timeHistory[i]['Enthalpy'] for i in range(0, len(tpArray))]\n",
    "HH = sum(H_total)\n",
    "%matplotlib inline\n",
    "plt.figure();\n",
    "ax = plt.gca();\n",
    "ax.ticklabel_format(useOffset=False)\n",
    "ax.plot(HH.index, HH)\n",
    "# plt.ylim([-29602766, -29602760])\n",
    "ax.set_yticklabels(ax.get_yticks())\n",
    "plt.xlabel('Time');\n",
    "plt.ylabel('Total System Enthalpy (J)');\n",
    "# ax.get_yaxis().get_major_formatter().set_useOffset(False)\n",
    "\n",
    "\n",
    "print(\"Initial total enthalpy =\", sum([timeHistory[i]['Enthalpy'][timeHistory[i].first_valid_index()] for i in range(0, len(tpArray))]), \"J\")\n",
    "print(\"Final total enthalpy =\", sum([timeHistory[i]['Enthalpy'][timeHistory[i].last_valid_index()] for i in range(0, len(tpArray))]), \"J\")"
   ]
  },
  {
   "cell_type": "code",
   "execution_count": 8,
   "metadata": {},
   "outputs": [
    {
     "data": {
      "image/png": "[encoded data removed]",
      "text/plain": [
       "<matplotlib.figure.Figure at 0x204d9574358>"
      ]
     },
     "metadata": {},
     "output_type": "display_data"
    }
   ],
   "source": [
    "plt.figure()\n",
    "ax = plt.gca();\n",
    "ax.ticklabel_format(useOffset=False)\n",
    "ax.plot(timeHistory[0].index, timeHistory[0]['T'],\n",
    "         timeHistory[1].index, timeHistory[1]['T'],\n",
    "         timeHistory[2].index, timeHistory[2]['T']) \n",
    "# plt.ylim([299.98, 300.02])\n",
    "ax.set_yticklabels(ax.get_yticks())\n",
    "plt.xlabel('Time (s)')\n",
    "plt.ylabel('Temperature (K)');"
   ]
  },
  {
   "cell_type": "code",
   "execution_count": null,
   "metadata": {
    "collapsed": true
   },
   "outputs": [],
   "source": []
  }
 ],
 "metadata": {
  "kernelspec": {
   "display_name": "Python 3",
   "language": "python",
   "name": "python3"
  },
  "language_info": {
   "codemirror_mode": {
    "name": "ipython",
    "version": 3
   },
   "file_extension": ".py",
   "mimetype": "text/x-python",
   "name": "python",
   "nbconvert_exporter": "python",
   "pygments_lexer": "ipython3",
   "version": "3.6.3"
  }
 },
 "nbformat": 4,
 "nbformat_minor": 2
}
