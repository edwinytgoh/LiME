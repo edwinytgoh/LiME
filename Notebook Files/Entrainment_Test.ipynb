{
 "cells": [
  {
   "cell_type": "code",
   "execution_count": 18,
   "metadata": {},
   "outputs": [],
   "source": [
    "import sys\n",
    "sys.path.insert(0, \"../\")\n",
    "import BatchPaSR as bp\n",
    "from CanteraTools import *    \n",
    "import plotly\n",
    "import plotly.plotly as pplotly\n",
    "import plotly.graph_objs as go\n",
    "plotly.tools.set_credentials_file(username='edwin217', api_key='hoh1lSzTIVSeckYhrNYL')"
   ]
  },
  {
   "cell_type": "markdown",
   "metadata": {},
   "source": [
    "### phi_global = 0.635\n",
    "\n",
    "### phi_main = 0.3719 \n",
    "\n",
    "### tau_main = 20 - 0.28 ms\n",
    "\n",
    "### P = 25 kg\n",
    "\n",
    "### total_mass = 1 kg"
   ]
  },
  {
   "cell_type": "code",
   "execution_count": 2,
   "metadata": {
    "jupyter": {
     "source_hidden": true
    }
   },
   "outputs": [
    {
     "name": "stdout",
     "output_type": "stream",
     "text": [
      "Vitiator end time: 19.719906328977743 milliseconds\n",
      "Initial mainBurnerDF length: 379\n",
      "New mainBurnerDF length: 1291\n"
     ]
    }
   ],
   "source": [
    "phi_global = 0.635\n",
    "phi_main = 0.3719\n",
    "tau_main = 20 - 0.28\n",
    "tau_global = 20\n",
    "tau_mix = [0.005, 0.01, 0.05, 0.1, 0.3]\n",
    "P = 25 * ct.one_atm\n",
    "miliseconds = 0.001\n",
    "total_mass = 1\n",
    "fs = 0.058387057492574147\n",
    "# Go ahead and run main burner since everything is fixed\n",
    "[mfm, mam, mfs, mas] = solvePhi_airSplit(phi_global, phi_main, total_mass, 1)\n",
    "# print(f\"mfm = {mfm:.3f}; mam = {mam:.3f}; mfs = {mfs:.3f}; mas = {mas:.3f}\")\n",
    "# print(f\"phi_main = {mfm/mam/fs:.3f}; phi_sec = {mfs/mas/fs:.3f}; phi_global = {(mfm+mfs)/(mas+mam)/fs}\")\n",
    "[vit_reactor, main_burner_DF] = runMainBurner(phi_main, tau_main*milliseconds)\n",
    "vit_particle = bp.Particle.fromGas(vit_reactor.thermo, particle_mass = mfm+mam)\n",
    "fuel = ct.Solution('gri30.xml')\n",
    "fuel.TPX = 300, P, {'CH4':1} # TODO: Come up with a more general way of doing secondary gas so that we can have both fuel and air \n",
    "air = ct.Solution('gri30.xml'); \n",
    "air.TPX = 650, P, {'O2':0.21, 'N2':0.79}\n",
    "secondary_gas = mix([fuel, air], [mfs, mas], P = P)\n",
    "secondary_part = bp.Particle.fromGas(secondary_gas, particle_mass=mfs+mas)"
   ]
  },
  {
   "cell_type": "markdown",
   "metadata": {},
   "source": [
    "# Test 1: Running a PaSBR with Fixed Entrainment of Both Streams"
   ]
  },
  {
   "cell_type": "code",
   "execution_count": 3,
   "metadata": {},
   "outputs": [
    {
     "name": "stdout",
     "output_type": "stream",
     "text": [
      "u_crossflow = 20.00 m/s\n",
      "u_jet = 20.61 m/s\n",
      "\n",
      "Vitiated product mass = 0.985 kg\n",
      "Secondary fluid mass = 0.015 kg\n",
      "\n",
      "Vitiated product density = 5.765 kg/m3\n",
      "Secondary fluid density = 16.292 kg/m3\n",
      "\n",
      "mdot_main = 115.306 kg/s\n",
      "mdot_sec = 33.573 kg/s\n",
      "\n",
      "Time taken to completely entrain main burner fluid = 8.5441 ms\n",
      "Time taken to completely entrain jet fluid = 0.4412 ms\n"
     ]
    }
   ],
   "source": [
    "mass_main = mfm + mam \n",
    "mass_sec = mfs + mas \n",
    "J_ratio = 3\n",
    "rho_crossflow = vit_reactor.thermo.density\n",
    "u_crossflow = 20 # m/s\n",
    "rho_jet = secondary_gas.density\n",
    "u_jet = ((J_ratio * (rho_crossflow * u_crossflow * u_crossflow))/rho_jet)**0.5\n",
    "print(f\"u_crossflow = {u_crossflow:.2f} m/s\")\n",
    "print(f\"u_jet = {u_jet:.2f} m/s\\n\")\n",
    "A_crossflow = 1 # m2\n",
    "A_jet = A_crossflow/10\n",
    "\n",
    "mdot_main = vit_reactor.thermo.density * A_crossflow * u_crossflow \n",
    "mdot_sec = rho_jet * A_jet * u_jet\n",
    "print(f\"Vitiated product mass = {mass_main:.3f} kg\\nSecondary fluid mass = {mass_sec:.3f} kg\\n\")\n",
    "print(f\"Vitiated product density = {vit_reactor.thermo.density:.3f} kg/m3\\nSecondary fluid density = {secondary_gas.density:.3f} kg/m3\\n\")\n",
    "print(f\"mdot_main = {mdot_main:.3f} kg/s\\nmdot_sec = {mdot_sec:.3f} kg/s\\n\")\n",
    "print(f\"Time taken to completely entrain main burner fluid = {mass_main/mdot_main*1e3:.4f} ms\")\n",
    "print(f\"Time taken to completely entrain jet fluid = {mass_sec/mdot_sec*1e3:.4f} ms\")"
   ]
  },
  {
   "cell_type": "code",
   "execution_count": 4,
   "metadata": {},
   "outputs": [],
   "source": [
    "pasbr = bp.PaSBR([], N_MAX=200, dt=0.001e-3)"
   ]
  },
  {
   "cell_type": "code",
   "execution_count": 5,
   "metadata": {
    "collapsed": true,
    "jupyter": {
     "outputs_hidden": true,
     "source_hidden": true
    }
   },
   "outputs": [
    {
     "name": "stdout",
     "output_type": "stream",
     "text": [
      "dt_entrain = 0.2848 ms\n",
      "Entraining particle of mass 0.03 kg into PaSBR\n",
      "Entraining particle of mass 0.01 kg into PaSBR\n",
      "Entraining particle of mass 0.03 kg into PaSBR\n",
      "Entraining particle of mass 0.01 kg into PaSBR\n",
      "Entraining particle of mass 0.03 kg into PaSBR\n",
      "Entraining particle of mass 0.03 kg into PaSBR\n",
      "Entraining particle of mass 0.03 kg into PaSBR\n",
      "Entraining particle of mass 0.03 kg into PaSBR\n",
      "Entraining particle of mass 0.03 kg into PaSBR\n",
      "Entraining particle of mass 0.03 kg into PaSBR\n",
      "Entraining particle of mass 0.03 kg into PaSBR\n",
      "Entraining particle of mass 0.03 kg into PaSBR\n",
      "Entraining particle of mass 0.03 kg into PaSBR\n",
      "Entraining particle of mass 0.03 kg into PaSBR\n",
      "Entraining particle of mass 0.03 kg into PaSBR\n",
      "Entraining particle of mass 0.03 kg into PaSBR\n",
      "Entraining particle of mass 0.03 kg into PaSBR\n",
      "Entraining particle of mass 0.03 kg into PaSBR\n",
      "Entraining particle of mass 0.03 kg into PaSBR\n",
      "Entraining particle of mass 0.03 kg into PaSBR\n",
      "Entraining particle of mass 0.03 kg into PaSBR\n",
      "Entraining particle of mass 0.03 kg into PaSBR\n",
      "Entraining particle of mass 0.03 kg into PaSBR\n",
      "Entraining particle of mass 0.03 kg into PaSBR\n",
      "Entraining particle of mass 0.03 kg into PaSBR\n",
      "Entraining particle of mass 0.03 kg into PaSBR\n",
      "Entraining particle of mass 0.03 kg into PaSBR\n",
      "Entraining particle of mass 0.03 kg into PaSBR\n",
      "Entraining particle of mass 0.03 kg into PaSBR\n",
      "Entraining particle of mass 0.03 kg into PaSBR\n",
      "Entraining particle of mass 0.03 kg into PaSBR\n",
      "Entraining particle of mass 0.03 kg into PaSBR\n",
      "Time taken = 3.76 minutes\n"
     ]
    }
   ],
   "source": [
    "t1 = time.time()\n",
    "def massflowfcnmain(time):\n",
    "    if time <= mass_main/mdot_main:\n",
    "        return mdot_main\n",
    "    else:\n",
    "        return 0\n",
    "\n",
    "def massflowfcnsec(time):\n",
    "    if time <= mass_sec/mdot_sec:\n",
    "        return mdot_sec\n",
    "    else:\n",
    "        return 0\n",
    "totalTime = 10*milliseconds\n",
    "\n",
    "dt_entrain = (mass_main/mdot_main)/30\n",
    "print(f\"dt_entrain = {dt_entrain/1e-3:.4f} ms\")\n",
    "t = np.arange(0, totalTime, pasbr.dt)\n",
    "pfc_vit = bp.ParticleFlowController(pasbr, vit_reactor.thermo, mass_main, dt_entrain, method=massflowfcnmain)\n",
    "# pfc_vit.gas()\n",
    "pfc_sec = bp.ParticleFlowController(pasbr, secondary_gas, mass_sec, dt_entrain, method=massflowfcnsec)\n",
    "# pfc_sec.gas()\n",
    "for i in range(0,t.size):\n",
    "    pfc_vit.entrain(t[i])\n",
    "    pfc_sec.entrain(t[i])\n",
    "#     pdb.set_trace()\n",
    "    pasbr.react()\n",
    "    pasbr.mix(tau_mix=0.001*milliseconds)\n",
    "t2 = time.time(); \n",
    "print(f\"Time taken = {(t2-t1)/60:.2f} minutes\")"
   ]
  },
  {
   "cell_type": "code",
   "execution_count": 39,
   "metadata": {
    "jupyter": {
     "source_hidden": true
    }
   },
   "outputs": [],
   "source": [
    "df = pasbr.get_timeHistory()\n",
    "particle_historyList = [p.get_timeHistory(dataFrame=True) for p in pasbr.particle_list]\n",
    "for i in range(0, len(particle_historyList)):\n",
    "    particle_historyList[i].age += totalTime - particle_historyList[i].age.iloc[-1]"
   ]
  },
  {
   "cell_type": "code",
   "execution_count": 49,
   "metadata": {
    "jupyter": {
     "source_hidden": true
    }
   },
   "outputs": [],
   "source": [
    "T_traces = [go.Scatter(x = particle_historyList[i]['age'], y = particle_historyList[i]['T'], mode = 'lines', yaxis='y2', name = f\"Particle {i} Temp\") for i in range(0, len(particle_historyList))]"
   ]
  },
  {
   "cell_type": "code",
   "execution_count": 45,
   "metadata": {
    "jupyter": {
     "source_hidden": true
    }
   },
   "outputs": [
    {
     "name": "stdout",
     "output_type": "stream",
     "text": [
      "The draw time for this plot will be slow for all clients.\n"
     ]
    },
    {
     "name": "stderr",
     "output_type": "stream",
     "text": [
      "C:\\Users\\edwin\\AppData\\Local\\Continuum\\anaconda3\\envs\\canteraEnv\\lib\\site-packages\\plotly\\api\\v1\\clientresp.py:40: UserWarning:\n",
      "\n",
      "Estimated Draw Time Too Long\n",
      "\n"
     ]
    },
    {
     "data": {
      "text/html": [
       "<iframe id=\"igraph\" scrolling=\"no\" style=\"border:none;\" seamless=\"seamless\" src=\"https://plot.ly/~edwin217/20.embed\" height=\"525px\" width=\"100%\"></iframe>"
      ],
      "text/plain": [
       "<plotly.tools.PlotlyDisplay object>"
      ]
     },
     "execution_count": 45,
     "metadata": {},
     "output_type": "execute_result"
    }
   ],
   "source": [
    "Y_NO_trace = go.Scatter(x = df['age'], y = df['Y_NO']*1e6, mode = 'lines', name = 'Y_NO Uncorrected'); \n",
    "X_NO_trace = go.Scatter(x = df['age'], y = df['X_NO']*1e6, mode = 'lines', name = 'X_NO Uncorrected'); \n",
    "X_NO_corr_trace = go.Scatter(x = df['age'], y = correctNOx(df['X_NO'], df['X_H2O'], df['X_O2']), name  = 'X_NO Corrected')\n",
    "\n",
    "NO_and_T_traces = T_traces + [Y_NO_trace,  X_NO_trace,  X_NO_corr_trace]\n",
    "\n",
    "layout = go.Layout(title='NO and Temp', yaxis={'title': \"NO (ppm)\"}, yaxis2={'title':\"Temperature(K)\", 'side':\"right\", 'overlaying':\"y\"})\n",
    "NO_fig = go.Figure(data = NO_and_T_Traces, layout=multiAxisLayout)\n",
    "\n",
    "pplotly.iplot(NO_and_T_traces, filename = 'NO_and_temp')"
   ]
  },
  {
   "cell_type": "code",
   "execution_count": 55,
   "metadata": {
    "collapsed": true,
    "jupyter": {
     "outputs_hidden": true,
     "source_hidden": true
    }
   },
   "outputs": [
    {
     "name": "stdout",
     "output_type": "stream",
     "text": [
      "The draw time for this plot will be slow for all clients.\n"
     ]
    },
    {
     "name": "stderr",
     "output_type": "stream",
     "text": [
      "C:\\Users\\edwin\\AppData\\Local\\Continuum\\anaconda3\\envs\\canteraEnv\\lib\\site-packages\\plotly\\api\\v1\\clientresp.py:40: UserWarning:\n",
      "\n",
      "Estimated Draw Time Too Long\n",
      "\n"
     ]
    },
    {
     "data": {
      "text/html": [
       "<iframe id=\"igraph\" scrolling=\"no\" style=\"border:none;\" seamless=\"seamless\" src=\"https://plot.ly/~edwin217/24.embed\" height=\"525px\" width=\"100%\"></iframe>"
      ],
      "text/plain": [
       "<plotly.tools.PlotlyDisplay object>"
      ]
     },
     "execution_count": 55,
     "metadata": {},
     "output_type": "execute_result"
    }
   ],
   "source": [
    "Y_NO_trace = go.Scatter(x = df['age'], y = df['Y_NO']*1e6, mode = 'lines', name = 'Y_NO Uncorrected'); \n",
    "X_NO_trace = go.Scatter(x = df['age'], y = df['X_NO']*1e6, mode = 'lines', name = 'X_NO Uncorrected'); \n",
    "X_NO_corr_trace = go.Scatter(x = df['age'], y = correctNOx(df['X_NO'], df['X_H2O'], df['X_O2']), name  = 'X_NO Corrected')\n",
    "\n",
    "NO_and_T_traces = T_traces + [Y_NO_trace,  X_NO_trace,  X_NO_corr_trace]\n",
    "\n",
    "multiAxisLayout = go.Layout(title='NO and Temp', yaxis={'title': \"NO (ppm)\"}, yaxis2={'title':\"Temperature(K)\", 'side':\"right\", 'overlaying':\"y\"})\n",
    "NO_fig = go.Figure(data = NO_and_T_traces, layout=multiAxisLayout)\n",
    "\n",
    "plot_url = pplotly.iplot(NO_fig, filename = 'NO_and_temp')\n",
    "plot_url"
   ]
  },
  {
   "cell_type": "code",
   "execution_count": 57,
   "metadata": {
    "jupyter": {
     "source_hidden": true
    }
   },
   "outputs": [
    {
     "name": "stdout",
     "output_type": "stream",
     "text": [
      "The draw time for this plot will be slow for all clients.\n"
     ]
    },
    {
     "name": "stderr",
     "output_type": "stream",
     "text": [
      "C:\\Users\\edwin\\AppData\\Local\\Continuum\\anaconda3\\envs\\canteraEnv\\lib\\site-packages\\plotly\\api\\v1\\clientresp.py:40: UserWarning:\n",
      "\n",
      "Estimated Draw Time Too Long\n",
      "\n"
     ]
    },
    {
     "data": {
      "text/html": [
       "<iframe id=\"igraph\" scrolling=\"no\" style=\"border:none;\" seamless=\"seamless\" src=\"https://plot.ly/~edwin217/26.embed\" height=\"525px\" width=\"100%\"></iframe>"
      ],
      "text/plain": [
       "<plotly.tools.PlotlyDisplay object>"
      ]
     },
     "execution_count": 57,
     "metadata": {},
     "output_type": "execute_result"
    }
   ],
   "source": [
    "Y_CO_trace = go.Scatter(x = df['age'], y = df['Y_CO']*1e6, mode = 'lines', name = 'Y_CO Uncorrected'); \n",
    "X_CO_trace = go.Scatter(x = df['age'], y = df['X_CO']*1e6, mode = 'lines', name = 'X_CO Uncorrected'); \n",
    "X_CO_corr_trace = go.Scatter(x = df['age'], y = correctNOx(df['X_CO'], df['X_H2O'], df['X_O2']), name  = 'X_CO Corrected')\n",
    "\n",
    "CO_and_T_traces = T_traces + [Y_CO_trace,  X_CO_trace,  X_CO_corr_trace]\n",
    "\n",
    "multiAxisLayout = go.Layout(title='CO and Temp', yaxis={'title': \"CO (ppm)\", 'type':'log'}, yaxis2={'title':\"Temperature(K)\", 'side':\"right\", 'overlaying':\"y\"})\n",
    "CO_fig = go.Figure(data = CO_and_T_traces, layout=multiAxisLayout)\n",
    "\n",
    "CO_url = pplotly.iplot(CO_fig, filename = 'CO_and_temp')\n",
    "CO_url"
   ]
  }
 ],
 "metadata": {
  "kernelspec": {
   "display_name": "Python 3",
   "language": "python",
   "name": "python3"
  },
  "language_info": {
   "codemirror_mode": {
    "name": "ipython",
    "version": 3
   },
   "file_extension": ".py",
   "mimetype": "text/x-python",
   "name": "python",
   "nbconvert_exporter": "python",
   "pygments_lexer": "ipython3",
   "version": "3.6.6"
  }
 },
 "nbformat": 4,
 "nbformat_minor": 2
}
