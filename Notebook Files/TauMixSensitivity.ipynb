{
 "cells": [
  {
   "cell_type": "markdown",
   "metadata": {},
   "source": [
    "# Tau_Mix Sensitivity Study "
   ]
  },
  {
   "cell_type": "code",
   "execution_count": null,
   "metadata": {},
   "outputs": [],
   "source": [
    "import sys\n",
    "githubPath = r\"K:/Dropbox (GaTech)/DOE/BatchPaSR\"\n",
    "sys.path.insert(0, githubPath)\n",
    "import BatchPaSR as bp; \n",
    "import CanteraTools as ct_tools; \n",
    "import cantera as ct;\n",
    "import matplotlib.pyplot as plt\n",
    "%matplotlib inline"
   ]
  },
  {
   "cell_type": "code",
   "execution_count": null,
   "metadata": {},
   "outputs": [],
   "source": [
    "phi_global = 0.635\n",
    "phi_main = 0.3719\n",
    "tau_sec = 0.28\n",
    "tau_global = 20\n",
    "tau_mix = [0.005, 0.01, 0.05, 0.1, 0.3]\n",
    "P = 25 * ct.one_atm\n",
    "miliseconds = 0.001"
   ]
  },
  {
   "cell_type": "markdown",
   "metadata": {},
   "source": [
    "## Run Main Burner"
   ]
  },
  {
   "cell_type": "code",
   "execution_count": null,
   "metadata": {},
   "outputs": [],
   "source": [
    "#making figures\n",
    "fig1, (Tvst) = plt.subplots()\n",
    "plt.xlabel('Time (seconds)')\n",
    "Tvst.set_title(\"Average Tempature over Time\")\n",
    "fig2, (COvt, NOvt) = plt.subplots(nrows=2, ncols=1)\n",
    "plt.xlabel('Time (seconds)')\n",
    "COvt.set_title('Average CO Concentration over time (uncorrected ppm)')\n",
    "NOvt.set_title('Average NO Concentration over time (uncorrected ppm)')\n",
    "# fig3, (NOvCO) = plt.subplots()\n",
    "# NOvCO.set_title('Average NO vs CO Concentration (uncorrected ppm)')\n",
    "# plt.xlabel('CO Concentration')\n",
    "# plt.ylabel('NO Concentration')"
   ]
  },
  {
   "cell_type": "markdown",
   "metadata": {},
   "source": [
    "## Run 5 Different Secondary Reactors "
   ]
  },
  {
   "cell_type": "code",
   "execution_count": null,
   "metadata": {},
   "outputs": [],
   "source": [
    "for x in range(0,5):\n",
    "#note add somewhere on graph that tau_mix is in miliseconds\n",
    "#add somewhere to include # of particles\n",
    "    [mfm, mam, mfs, mas] = solvePhi_airSplit(phi_global, phi_main, 100, 1)\n",
    "    [vit_reactor, main_burner_DF] = runMainBurner(phi_main, (tau_global-tau_sec)*milliseconds)\n",
    "    vit_particle = Particle.fromGas(vit_reactor.thermo, particle_mass = mfm+mam)\n",
    "\n",
    "    dt = miliseconds * 1e-3 # in milliseconds\n",
    "    secondary_gas = ct.Solution('gri30.xml')\n",
    "    secondary_gas.TPX = 300, 25*ct.one_atm, {'CH4':1}\n",
    "    secondary_part = Particle.fromGas(secondary_gas, particle_mass=mfs+mas)\n",
    "\n",
    "    bp = PaSBR(particle_list=[vit_particle, secondary_part], dt=dt, N_MAX=1000)\n",
    "    states = ct.SolutionArray(bp.mean_gas, extra=['t'])\n",
    "    enthalpy = []\n",
    "    t = np.arange(0, 1*milliseconds, bp.dt)\n",
    "\n",
    "    #bp.prepEntrainment(added_gas = vit_reactor.thermo, total_mass_added = (mam+mfm), tau_ent = totalTime, numParticles=20, method='constant')\n",
    "    for i in range(0,t.size):\n",
    "        #bp.entrain(t[i])\n",
    "        bp.react()\n",
    "        bp.mix(tau_mix=tau_mix[x]*milliseconds)\n",
    "        states.append(bp.mean_gas.state, t=t[i])\n",
    "        enthalpy.append(bp.mean_gas.enthalpy_mass)\n",
    "    Tvst.plot(states.t, states.T, label = 'Tau_mix = %s' %(tau_mix[x]))\n",
    "    COvt.plot(states.t, states('CO').X*1e6, label = 'Tau_mix = %s' %(tau_mix[x]))\n",
    "    NOvt.plot(states.t, states('NO').X*1e6, label = 'Tau_mix = %s' %(tau_mix[x]))\n",
    "    # NOvCO.plot(states('CO').X*1e6, states('NO').X*1e6, label = 'Tau_mix = %s' %(tau_mix[x]) )"
   ]
  },
  {
   "cell_type": "markdown",
   "metadata": {},
   "source": [
    "## Plot Results "
   ]
  },
  {
   "cell_type": "code",
   "execution_count": null,
   "metadata": {},
   "outputs": [],
   "source": [
    "\n",
    "for ax in [COvt, NOvt, Tvst]:\n",
    "    ax.grid(True)\n",
    "    ax.label_outer()\n",
    "    ax.legend()\n",
    "\n",
    "fig1.savefig('AvTvst.png')\n",
    "fig2.savefig('Entrained_NO_CO_Concentrations.png')\n",
    "\n",
    "plt.show()"
   ]
  }
 ],
 "metadata": {
  "kernelspec": {
   "display_name": "Python 3",
   "language": "python",
   "name": "python3"
  },
  "language_info": {
   "codemirror_mode": {
    "name": "ipython",
    "version": 3
   },
   "file_extension": ".py",
   "mimetype": "text/x-python",
   "name": "python",
   "nbconvert_exporter": "python",
   "pygments_lexer": "ipython3",
   "version": "3.6.5"
  }
 },
 "nbformat": 4,
 "nbformat_minor": 2
}
