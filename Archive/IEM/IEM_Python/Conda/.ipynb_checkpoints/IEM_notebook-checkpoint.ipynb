{
 "cells": [
  {
   "cell_type": "code",
   "execution_count": 12,
   "metadata": {
    "collapsed": true
   },
   "outputs": [],
   "source": [
    "from cantera import Solution\n",
    "from cantera._cantera import ConstPressureReactor, ReactorNet\n",
    "from numpy.ma import array, arange\n",
    "import cantera\n",
    "import pandas as pd"
   ]
  },
  {
   "cell_type": "code",
   "execution_count": 2,
   "metadata": {
    "collapsed": true
   },
   "outputs": [],
   "source": [
    "def iem(m, tpArray, rArray, rn, dt, tau_mix):\n",
    "    # Calculate average \n",
    "    H = 0\n",
    "    h_avg = 0; \n",
    "    X_avg = 0; \n",
    "    for i in range(0,len(tpArray)-1):\n",
    "        # gas = Solution('gri30.cti'); \n",
    "        # gas.enthalpy_mass\n",
    "        H += tpArray[i].enthalpy_mass * m[i]\n",
    "        print(H)\n",
    "        # print(\"hello\")\n",
    "\n",
    "def createReactorNetwork():\n",
    "    m = array([6, 2, 3]);\n",
    "    s1 = Solution('h2o2.cti');\n",
    "    s2 = Solution('h2o2.cti');\n",
    "    s3 = Solution('h2o2.cti');\n",
    "    s1.TPY = 333, 101325, 'H2:0.75, O2:0.25';\n",
    "    s2.TPY = [300, 101325, 'O2:0.75, H2:0.25'];\n",
    "    s3.TPY = [540, 101325, 'H2:0.5, O2:0.5'];\n",
    "    tpArray = array([s1, s2, s3])\n",
    "    \n",
    "    r1 = ConstPressureReactor(s1);\n",
    "    r2 = ConstPressureReactor(s2);\n",
    "    r3 = ConstPressureReactor(s3);\n",
    "    rArray = array([r1, r2, r3])\n",
    "    \n",
    "    rn1 = ReactorNet([r1]);\n",
    "    rn2 = ReactorNet([r2]);\n",
    "    rn3 = ReactorNet([r3]);\n",
    "    rn = ReactorNet([r1, r2, r3]);\n",
    "\n",
    "    r1.syncState(); \n",
    "    r2.syncState(); \n",
    "    r3.syncState();\n",
    "    rn.reinitialize()\n",
    "    return m, tpArray, rArray, rn;"
   ]
  },
  {
   "cell_type": "code",
   "execution_count": 11,
   "metadata": {},
   "outputs": [
    {
     "name": "stdout",
     "output_type": "stream",
     "text": [
      "{'C': 8.903545298677906e-12, 'C2H': 2.244731984030079e-15, 'C2H2': 2.5889240973777363e-13, 'C2H3': 3.432329430032579e-17, 'C2H4': 3.775464305089878e-17, 'C2H5': 7.211674630055842e-21, 'C2H6': 8.353798983480912e-22, 'C3H7': 1.7043307551461837e-31, 'C3H8': 1.8399265127893172e-32, 'CH': 4.349940689923147e-12, 'CH2': 1.8427812803020077e-11, 'CH2(S)': 1.5577463677172462e-12, 'CH2CHO': 1.9108733544588584e-17, 'CH2CO': 2.511436076866258e-13, 'CH2O': 4.1623236703777683e-08, 'CH2OH': 3.0194788321973624e-12, 'CH3': 1.2564573612121416e-10, 'CH3CHO': 6.676053477112257e-18, 'CH3O': 6.433064067044046e-14, 'CH3OH': 4.5154356873608354e-13, 'CH4': 8.502411372516268e-11, 'CO': 0.2915476284783963, 'CO2': 0.03557471166845785, 'H': 0.030263973245228053, 'H2': 0.35117467789272694, 'H2O': 0.2848880304137492, 'H2O2': 3.0034896391732744e-08, 'HCCO': 1.4516674521693342e-13, 'HCCOH': 8.248651756315768e-16, 'HCO': 9.996582603754932e-07, 'HO2': 1.2774372921601318e-07, 'O': 0.0003363683455483903, 'O2': 0.00011054528926092358, 'OH': 0.006102865358406654}\n"
     ]
    }
   ],
   "source": [
    "gas = Solution('gri30.xml'); \n",
    "gas.TPX = 500, 101325, 'CH4:1,O2:1'\n",
    "gas.equilibrate('HP'); \n",
    "print(gas.mole_fraction_dict())"
   ]
  },
  {
   "cell_type": "code",
   "execution_count": 59,
   "metadata": {},
   "outputs": [
    {
     "name": "stdout",
     "output_type": "stream",
     "text": [
      "8.903545298677911e-12\n",
      "2.2447319840300803e-15\n",
      "2.5889240973777373e-13\n",
      "3.432329430032581e-17\n",
      "3.77546430508988e-17\n",
      "7.211674630055847e-21\n",
      "8.353798983480916e-22\n",
      "1.7043307551461845e-31\n",
      "1.839926512789318e-32\n",
      "4.34994068992315e-12\n",
      "1.8427812803020087e-11\n",
      "1.557746367717247e-12\n",
      "1.9108733544588593e-17\n",
      "2.511436076866259e-13\n",
      "4.1623236703777703e-08\n",
      "3.019478832197364e-12\n",
      "1.2564573612121421e-10\n",
      "6.676053477112261e-18\n",
      "6.433064067044049e-14\n",
      "4.5154356873608374e-13\n",
      "8.502411372516272e-11\n",
      "0.2915476284783965\n",
      "0.03557471166845786\n",
      "0.03026397324522807\n",
      "0.3511746778927271\n",
      "0.2848880304137494\n",
      "3.0034896391732764e-08\n",
      "1.451667452169335e-13\n",
      "8.248651756315773e-16\n",
      "9.996582603754937e-07\n",
      "1.2774372921601323e-07\n",
      "0.00033636834554839044\n",
      "0.00011054528926092364\n",
      "0.006102865358406657\n"
     ]
    }
   ],
   "source": [
    "a = gas.mole_fraction_dict(); \n",
    "b = a.values()\n",
    "# c = 2*b\n",
    "# print(c)\n",
    "d = 0; \n",
    "for key in a:\n",
    "    d += a[key];\n",
    "    print(a[key])\n",
    "\n",
    "k = a.keys()\n",
    "e = dict.fromkeys(a.keys())\n",
    "# print(e)\n",
    "# print(k)\n"
   ]
  },
  {
   "cell_type": "code",
   "execution_count": 22,
   "metadata": {},
   "outputs": [
    {
     "name": "stdout",
     "output_type": "stream",
     "text": [
      "{'H2': 0.9794323731679336, 'O2': 0.02056762683206635}\n",
      "         H2        O2\n",
      "0  0.979432  0.020568\n"
     ]
    }
   ],
   "source": [
    "m, tpArray, rArray, rn = createReactorNetwork()\n",
    "\n",
    "X = tpArray[0].mole_fraction_dict()\n",
    "print(X)\n",
    "\n",
    "df = pd.DataFrame([X.values()],columns=X.keys())\n",
    "print(df)\n",
    "# print(X.items())"
   ]
  }
 ],
 "metadata": {
  "anaconda-cloud": {},
  "kernelspec": {
   "display_name": "Python 3",
   "language": "python",
   "name": "python3"
  },
  "language_info": {
   "codemirror_mode": {
    "name": "ipython",
    "version": 3
   },
   "file_extension": ".py",
   "mimetype": "text/x-python",
   "name": "python",
   "nbconvert_exporter": "python",
   "pygments_lexer": "ipython3",
   "version": "3.6.3"
  }
 },
 "nbformat": 4,
 "nbformat_minor": 1
}
