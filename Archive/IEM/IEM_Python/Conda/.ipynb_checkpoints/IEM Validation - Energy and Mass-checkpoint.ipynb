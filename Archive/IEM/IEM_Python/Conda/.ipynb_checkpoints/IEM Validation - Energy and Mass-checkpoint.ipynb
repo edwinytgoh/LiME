{
 "cells": [
  {
   "cell_type": "markdown",
   "metadata": {},
   "source": [
    "# Validation of IEM Mixing Model \n",
    "## Goals:\n",
    "    1. Total system mass must be conserved\n",
    "    2. Total system enthalpy must be conserved\n",
    "    3. Mass fractions for each reactor must sum up to 1 at all times. "
   ]
  },
  {
   "cell_type": "code",
   "execution_count": 52,
   "metadata": {
    "collapsed": true
   },
   "outputs": [],
   "source": [
    "# For the Glory of God\n",
    "# Import required packages and tools: \n",
    "from collections import Counter\n",
    "from cantera import Solution\n",
    "from cantera._cantera import ConstPressureReactor, ReactorNet\n",
    "from matplotlib.pyplot import plot, show\n",
    "import matplotlib.pyplot as plt\n",
    "from numpy.ma import array, arange\n",
    "import pandas as pd\n",
    "import numpy as np\n",
    "\n",
    "# Create t vector\n",
    "milliseconds = 0.001;\n",
    "dt = 0.001*milliseconds;\n",
    "tau_mix = 0.05*milliseconds;\n",
    "omega = 1/tau_mix;\n",
    "end_time = 1*milliseconds;\n",
    "t = arange(0, end_time, dt)"
   ]
  },
  {
   "cell_type": "markdown",
   "metadata": {},
   "source": [
    "### Function to Create Reactor Network of Three Reactors: "
   ]
  },
  {
   "cell_type": "code",
   "execution_count": 53,
   "metadata": {
    "collapsed": true
   },
   "outputs": [],
   "source": [
    "def createReactorNetwork():\n",
    "    m = array([6, 2, 3]);\n",
    "    s1 = Solution('h2o2.cti');\n",
    "    s2 = Solution('h2o2.cti');\n",
    "    s3 = Solution('h2o2.cti');\n",
    "\n",
    "    s1.TPY = 300, 101325, 'H2:0.75, O2:0.25';\n",
    "    s2.TPY = [300, 101325, 'O2:0.75, H2:0.25'];\n",
    "    s3.TPY = [300, 101325, 'H2:0.5, O2:0.5'];\n",
    "    s3.equilibrate('HP');\n",
    "    tpArray = array([s1, s2, s3])\n",
    "    \n",
    "    r1 = ConstPressureReactor(s1);\n",
    "    r2 = ConstPressureReactor(s2);\n",
    "    r3 = ConstPressureReactor(s3);\n",
    "    rArray = array([r1, r2, r3])\n",
    "    \n",
    "    rn = ReactorNet([r1, r2, r3]);\n",
    "    \n",
    "    r1.syncState(); \n",
    "    r2.syncState(); \n",
    "    r3.syncState();\n",
    "    rn.reinitialize()\n",
    "    return m, tpArray, rArray, rn;\n",
    "\n",
    "# fuel = Solution('h2o2.cti'); set(fuel, 'T', 300, 'P', 101325, 'Y', 'H2:0.75, O2:0.25'); \n",
    "# ox = Solution('h2o2.cti'); set(ox, 'T', 300, 'P', 101325, 'Y', 'O2:0.75, H2:0.25');\n",
    "# prod = Solution('h2o2.cti'); set(prod, 'T', 300, 'P', 101325, 'Y', 'H2:0.5, O2:0.5');\n",
    "# equilibrate(prod, 'HP'); \n",
    "\n",
    "# sn = speciesNames(fuel); \n",
    "\n",
    "# fuelMass = 6; \n",
    "# oxMass = 2;\n",
    "# prodMass = 3; "
   ]
  },
  {
   "cell_type": "markdown",
   "metadata": {},
   "source": [
    "### IEM Mixing Model"
   ]
  },
  {
   "cell_type": "code",
   "execution_count": 54,
   "metadata": {
    "collapsed": true
   },
   "outputs": [],
   "source": [
    "def iem(m, tpArray, rArray, rn, dt, omega):\n",
    "# Constant k:\n",
    "    C_phi = 1;\n",
    "    k = -C_phi * omega * 0.5 * dt;\n",
    "\n",
    "# Calculate average: \n",
    "    m_total_r = 1/sum(m)\n",
    "    H_total = 0; \n",
    "    M_species_total = array([0.00]*tpArray[0].n_species)\n",
    "    for i in range(0,len(tpArray)):\n",
    "        M_species_total += m[i] * tpArray[i].Y; # List of total mass across all reactors of each species\n",
    "        H_total += m[i] * tpArray[i].enthalpy_mass\n",
    "\n",
    "    Y_avg = M_species_total * m_total_r # Y_species_avg = (M_total_species)/(M_total_system)\n",
    "    h_avg = H_total * m_total_r; # H_avg is the specific mass-weighted average across all reactors of the total enthalpy.\n",
    "#     print(H_total)\n",
    "# Adjust reactor state:     \n",
    "    for i in range(0, len(tpArray)):\n",
    "        h = tpArray[i].enthalpy_mass;\n",
    "        h_new = h + k * (h - h_avg);\n",
    "        Y_current = tpArray[i].Y;\n",
    "        Y_new =  Y_current + k * (Y_current - Y_avg); \n",
    "        tpArray[i].HPY = [h_new, tpArray[i].P, Y_new]\n",
    "        rArray[i].syncState();\n",
    "\n",
    "# Reinitialize reactor network solver:         \n",
    "    rn.reinitialize();"
   ]
  },
  {
   "cell_type": "markdown",
   "metadata": {},
   "source": [
    "## 1. Conservation of Mass: "
   ]
  },
  {
   "cell_type": "code",
   "execution_count": 55,
   "metadata": {
    "collapsed": true
   },
   "outputs": [],
   "source": [
    "m, tpArray, rArray, rn = createReactorNetwork(); \n",
    "\n",
    "# Create table\n",
    "columnNames = ['T'] + ['P'] + ['Enthalpy'] + tpArray[0].species_names \n",
    "timeHistory = [pd.DataFrame(columns=columnNames) for i in range(0,len(tpArray))]\n",
    "\n",
    "counter = 0\n",
    "for i in range(0, len(t)):\n",
    "    for j in range(0, len(tpArray)):\n",
    "        if(counter%10 == 0):        \n",
    "            state = np.hstack([rArray[j].thermo.T, rArray[j].thermo.P, m[j]*tpArray[j].enthalpy_mass, \n",
    "                               rArray[j].thermo.Y])\n",
    "            timeHistory[j].loc[t[i]] = state\n",
    "    counter += 1\n",
    "    iem(m, tpArray, rArray, rn, dt, omega)"
   ]
  },
  {
   "cell_type": "code",
   "execution_count": 56,
   "metadata": {
    "scrolled": false
   },
   "outputs": [
    {
     "data": {
      "image/png": "[encoded data removed]",
      "text/plain": [
       "<matplotlib.figure.Figure at 0x22debc65358>"
      ]
     },
     "metadata": {},
     "output_type": "display_data"
    }
   ],
   "source": [
    "species = tpArray[0].species_names\n",
    "mf0 = sum([timeHistory[0][species[i]] for i in range(0, len(species))]); \n",
    "mf1 = sum([timeHistory[1][species[i]] for i in range(0, len(species))]); \n",
    "mf2 = sum([timeHistory[2][species[i]] for i in range(0, len(species))]); \n",
    "\n",
    "%matplotlib inline\n",
    "plt.plot(mf0.index, mf0, label='Reactor 1')\n",
    "plt.plot(mf1.index, mf1, ':', label='Reactor 2')\n",
    "plt.plot(mf2.index, mf2, '--', label='Reactor 3')\n",
    "plt.xlabel('Time');\n",
    "plt.ylabel('Total Mass Fractions');"
   ]
  },
  {
   "cell_type": "code",
   "execution_count": 63,
   "metadata": {
    "collapsed": true
   },
   "outputs": [],
   "source": [
    "M_species.to_clipboard()"
   ]
  },
  {
   "cell_type": "code",
   "execution_count": 58,
   "metadata": {},
   "outputs": [
    {
     "data": {
      "image/png": "[encoded data removed]",
      "text/plain": [
       "<matplotlib.figure.Figure at 0x22dea23ff60>"
      ]
     },
     "metadata": {},
     "output_type": "display_data"
    }
   ],
   "source": [
    "M_species = sum([m[i]*timeHistory[i][species] for i in range(0,len(tpArray))])\n",
    "\n",
    "%matplotlib inline\n",
    "plt.plot(M_species.index, M_species['H2'], label='H2')\n",
    "plt.plot(M_species.index, M_species['O2'], ':', label='O2')\n",
    "plt.plot(M_species.index, M_species['H2O'], '--', label='H2O')\n",
    "plt.plot(M_species.index, M_species.sum(1), label='Total Mass')\n",
    "plt.xlabel('Time');\n",
    "plt.ylabel('Total Mass of Species (kg)');\n",
    "plt.legend(); \n",
    "plt.ylim(0, 12); "
   ]
  },
  {
   "cell_type": "markdown",
   "metadata": {},
   "source": [
    "### Checked: \n",
    "- Mass fractions in each reactor sum to 1 at all times \n",
    "- Total mass of each reactor stayed constant (by definition) because we're only changing mass fractions \n",
    "- Total mass of each species is conserved. "
   ]
  },
  {
   "cell_type": "markdown",
   "metadata": {},
   "source": [
    "## 2. Conservation of Energy "
   ]
  },
  {
   "cell_type": "code",
   "execution_count": 59,
   "metadata": {},
   "outputs": [
    {
     "name": "stdout",
     "output_type": "stream",
     "text": [
      "Initial total enthalpy = 179699.999771 J\n",
      "Final total enthalpy = 179699.999771\n"
     ]
    },
    {
     "data": {
      "image/png": "[encoded data removed]",
      "text/plain": [
       "<matplotlib.figure.Figure at 0x22dea466dd8>"
      ]
     },
     "metadata": {},
     "output_type": "display_data"
    }
   ],
   "source": [
    "initial_total_enthalpy = timeHistory[0]['Enthalpy'][0] + \\\n",
    "                         timeHistory[1]['Enthalpy'][0] + \\\n",
    "                         timeHistory[2]['Enthalpy'][0]\n",
    "\n",
    "print(\"Initial total enthalpy =\", initial_total_enthalpy, \"J\")\n",
    "print(\"Final total enthalpy =\", sum([timeHistory[i]['Enthalpy'][timeHistory[i].last_valid_index()] for i in range(0, len(tpArray))]))\n",
    "# H_initial = array([initial_total_enthalpy]*len(t))\n",
    "\n",
    "h_total = timeHistory[0]['Enthalpy'] + timeHistory[1]['Enthalpy'] + timeHistory[2]['Enthalpy']\n",
    "\n",
    "%matplotlib inline\n",
    "plt.plot(h_total.index, h_total/1e6)\n",
    "plt.xlabel('Time');\n",
    "plt.ylabel('Total System Enthalpy (J)');"
   ]
  },
  {
   "cell_type": "code",
   "execution_count": 64,
   "metadata": {
    "collapsed": true
   },
   "outputs": [],
   "source": [
    "h_total.to_clipboard()"
   ]
  },
  {
   "cell_type": "code",
   "execution_count": 61,
   "metadata": {},
   "outputs": [
    {
     "data": {
      "image/png": "[encoded data removed]",
      "text/plain": [
       "<matplotlib.figure.Figure at 0x22debca26d8>"
      ]
     },
     "metadata": {},
     "output_type": "display_data"
    }
   ],
   "source": [
    "plt.figure()\n",
    "plt.plot(timeHistory[0].index, timeHistory[0]['T'],\n",
    "         timeHistory[1].index, timeHistory[1]['T'],\n",
    "         timeHistory[2].index, timeHistory[2]['T']) \n",
    "plt.xlabel('Time (s)')\n",
    "plt.ylabel('Temperature (K)');"
   ]
  },
  {
   "cell_type": "code",
   "execution_count": 77,
   "metadata": {},
   "outputs": [
    {
     "data": {
      "text/plain": [
       "array([ 0.12599722])"
      ]
     },
     "execution_count": 77,
     "metadata": {},
     "output_type": "execute_result"
    }
   ],
   "source": [
    "# timeHistory[2][['T', 'H2', 'O2', 'H2O']].to_clipboard(); \n",
    "gas = Solution('h2o2.xml')\n",
    "gas.atomic_weights\n",
    "2*gas['H2'].molecular_weights / gas['O2'].molecular_weights\n"
   ]
  }
 ],
 "metadata": {
  "kernelspec": {
   "display_name": "Python 3",
   "language": "python",
   "name": "python3"
  },
  "language_info": {
   "codemirror_mode": {
    "name": "ipython",
    "version": 3
   },
   "file_extension": ".py",
   "mimetype": "text/x-python",
   "name": "python",
   "nbconvert_exporter": "python",
   "pygments_lexer": "ipython3",
   "version": "3.6.3"
  }
 },
 "nbformat": 4,
 "nbformat_minor": 2
}
